{
 "cells": [
  {
   "cell_type": "markdown",
   "metadata": {},
   "source": [
    "# Waston Assistant Customer Effort Analysis Notebook"
   ]
  },
  {
   "cell_type": "markdown",
   "metadata": {},
   "source": [
    "## Introduction\n",
    "\n",
    "_Disambiguation_ and _Autolearning_ features allow your assistant to learn from interactions and improve the user experience over time with minimal human effort. This notebook demonstrates how to measure and analyze the performance improvement after enabling these two features. We use **Customer Effort** as the evaluation metric which quantifies how much effort users must make in order to achieve their intents. \n",
    "\n",
    "__Note__: this notebook requires skills with both _Disambiguation_ and _Autolearning_ features enabled. For more information, see [Disambiguation](https://cloud.ibm.com/docs/assistant?topic=assistant-dialog-runtime#dialog-runtime-disambiguation) and [Autolearning](https://cloud.ibm.com/docs/assistant?topic=assistant-autolearn).\n",
    "\n",
    "#### Programming language and environment\n",
    "Some familiarity with Python is recommended. This notebook runs on Python 3.5+ environment."
   ]
  },
  {
   "cell_type": "markdown",
   "metadata": {},
   "source": [
    "## Table of contents\n",
    "1. [Configuration and setup](#setup)<br>\n",
    "    1.1 [Install Assistant Improve Toolkit](#python)<br>\n",
    "    1.2 [Import functions used in the notebook](#function)<br>\n",
    "2. [Load and format data](#load)<br>\n",
    "    2.1 [Option one: from a Watson Assistant instance](#load_remote)<br>\n",
    "    2.2 [Option two: from JSON files](#load_local)<br>\n",
    "    2.3 [Format the log data](#format_data)<br>\n",
    "3. [Visualize Customer Effort](#overview)<br>\n",
    "    3.1 [Extract utterances containing disambiguations or more options](#conversation_extraction)<br>\n",
    "    3.2 [Calculate customer effort](#calculate)<br>\n",
    "    3.3 [Visualize](#visualize)<br>\n",
    "4. [Analyze Customer Effort](#analysis)<br>\n",
    "    4.1 [Customer effort vs user clicks](#effort_click)<br>\n",
    "    4.2 [Top dialog nodes with the highest effort](#effort_high)<br>\n",
    "    4.3 [Customer effort on dialog nodes](#effort_node)<br>\n",
    "    4.4 [Customer effort on utterances](#effort_utterance)<br>\n",
    "5. [Identify the most confused dialog nodes](#node)<br>\n",
    "    5.1 [Top N frequently co-occurred dialog nodes](#node_top)<br>\n",
    "    5.2 [Dialog node co-occurrence heatmap](#node_heat)<br>\n",
    "6. [Analyze user clicks](#click)<br>\n",
    "<!-- 6. [Summary and next steps](#summary)<br> --> <a id=\"analysis\"></a>"
   ]
  },
  {
   "cell_type": "markdown",
   "metadata": {},
   "source": [
    "<a id=\"setup\"></a>\n",
    "## 1. Configuration and Setup\n",
    "\n",
    "In this section, we install and import required libraries and functions."
   ]
  },
  {
   "cell_type": "markdown",
   "metadata": {},
   "source": [
    "### <a id=\"python\"></a> 1.1 Install Assistant Improve Toolkit"
   ]
  },
  {
   "cell_type": "code",
   "execution_count": null,
   "metadata": {
    "scrolled": true
   },
   "outputs": [],
   "source": [
    "!pip3 install --user --upgrade \"assistant-improve-toolkit\";"
   ]
  },
  {
   "cell_type": "markdown",
   "metadata": {},
   "source": [
    "### <a id=\"function\"></a> 1.2 Import functions used in the notebook"
   ]
  },
  {
   "cell_type": "code",
   "execution_count": null,
   "metadata": {},
   "outputs": [],
   "source": [
    "# Import Watson Assistant related functions\n",
    "from ibm_cloud_sdk_core.authenticators import BasicAuthenticator\n",
    "from ibm_cloud_sdk_core.authenticators import IAMAuthenticator\n",
    "from assistant_improve_toolkit.watson_assistant_func import get_logs, get_assistant_definition\n",
    "from assistant_improve_toolkit.computation_func import format_logs_disambiguation, calculate_effort, extract_disambiguation_utterances, generate_cooccurrence_matrix\n",
    "from assistant_improve_toolkit.visualize_func import show_effort_over_time, show_node_effort, show_top_node_effort, show_input_effort, show_disambiguation_click, show_more_options_click, show_cooccured_nodes, show_cooccured_heatmap, show_click_vs_effort\n",
    "\n",
    "# Import required libraries\n",
    "import pandas as pd\n",
    "import json\n",
    "from ibm_watson import AssistantV1\n",
    "from IPython.display import display\n",
    "import numpy as np\n",
    "import re\n",
    "from pandas import json_normalize\n",
    "\n",
    "# Import and apply global CSS styles\n",
    "from IPython.display import HTML\n",
    "!curl -O https://raw.githubusercontent.com/watson-developer-cloud/assistant-improve-recommendations-notebook/master/src/main/css/custom.css\n",
    "HTML(open('custom.css', 'r').read())\n"
   ]
  },
  {
   "cell_type": "markdown",
   "metadata": {},
   "source": [
    "## <a id=\"load\"></a> 2. Load and format data "
   ]
  },
  {
   "cell_type": "markdown",
   "metadata": {},
   "source": [
    "### <a id=\"load_remote\"></a> 2.1 Option one: from a Watson Assistant instance\n",
    "\n",
    "#### 2.1.1 Add Watson Assistant configuration\n",
    "\n",
    "This notebook uses the Watson Assistant v1 API to access your skill definition and your logs. Provide your Watson Assistant credentials and the workspace id that you want to fetch data from.\n",
    "\n",
    "You can access the values you need for this configuration from the Watson Assistant user interface. Go to the Skills page and select View API Details from the menu of a skill tile.\n",
    "\n",
    "- The string to set in the call to `IAMAuthenticator` is your Api Key under Service Credentials\n",
    "- The string to set for version is a date in the format version=YYYY-MM-DD. The version date string determines which version of the Watson Assistant V1 API will be called. For more information about version, see [Versioning](https://cloud.ibm.com/apidocs/assistant/assistant-v1#versioning).\n",
    "- The string to pass into `assistant.set_service_url` is the portion of the Legacy v1 Workspace URL that ends with `/api`. For example, `https://gateway.watsonplatform.net/assistant/api`. This value will be different depending on the location of your service instance. Do not pass in the entire Workspace URL."
   ]
  },
  {
   "cell_type": "code",
   "execution_count": null,
   "metadata": {},
   "outputs": [],
   "source": [
    "# Provide credentials to connect to assistant\n",
    "authenticator = BasicAuthenticator('apikey', '')\n",
    "sdk_object = AssistantV1(version='2020-02-05', authenticator=authenticator)\n",
    "sdk_object.set_service_url('')"
   ]
  },
  {
   "cell_type": "markdown",
   "metadata": {},
   "source": [
    "Specify your assistant information."
   ]
  },
  {
   "cell_type": "code",
   "execution_count": null,
   "metadata": {},
   "outputs": [],
   "source": [
    "assistant_information = {'workspace_id' : '',\n",
    "                         'skill_id' : '',\n",
    "                         'assistant_id' : ''}"
   ]
  },
  {
   "cell_type": "markdown",
   "metadata": {},
   "source": [
    "#### 2.1.2 Fetch and load your assistant definition\n",
    "\n",
    "Fetch assistant definition and load into a dataframe. Note that assistant definition will be saved into a cached file and reloaded from the file. Set `overwrite` to True to reload assistant definition."
   ]
  },
  {
   "cell_type": "code",
   "execution_count": null,
   "metadata": {},
   "outputs": [],
   "source": [
    "df_assistant = get_assistant_definition(sdk_object, assistant_information, overwrite=True)\n",
    "\n",
    "if df_assistant is not None:\n",
    "    # Get all intents\n",
    "    assistant_intents = [intent['intent'] for intent in df_assistant['intents'].values[0]] \n",
    "\n",
    "    # Get all dialog nodes\n",
    "    assistant_nodes = pd.DataFrame(df_assistant['dialog_nodes'].values[0])\n",
    "    assistant_loaded = True\n",
    "else:\n",
    "    assistant_loaded = False"
   ]
  },
  {
   "cell_type": "markdown",
   "metadata": {},
   "source": [
    "#### 2.1.3 Fetch and load logs\n",
    "\n",
    "Fetch user generated logs. You can apply filters while fetching logs, e.g.,\n",
    "- removing empty input: `meta.summary.input_text_length_i>0`\n",
    "- fetching logs generated after a timestamp: `response_timestamp>=2018-09-18`\n",
    "\n",
    "See more examples in [Logs notebook](https://github.com/watson-developer-cloud/assistant-improve-recommendations-notebook/blob/master/notebook/Logs%20Notebook.ipynb).\n",
    "\n",
    "Note that logs will be saved into a cached file and loaded from the file. Set `overwrite` to True to refresh the cached file."
   ]
  },
  {
   "cell_type": "code",
   "execution_count": null,
   "metadata": {},
   "outputs": [],
   "source": [
    "# Define output filename\n",
    "filename = 'logs'\n",
    "# Create file name\n",
    "if assistant_information['workspace_id'] is not None and len(assistant_information['workspace_id']) > 0:\n",
    "    filename += '_workspace_' + assistant_information['workspace_id']\n",
    "if assistant_information['assistant_id'] is not None and len(assistant_information['assistant_id']) > 0:\n",
    "    filename += '_assistant_' + assistant_information['assistant_id']\n",
    "if assistant_information['skill_id'] is not None and len(assistant_information['skill_id']) > 0:\n",
    "    filename += '_skill_' +  assistant_information['skill_id']\n",
    "# Remove all special characters from file name\n",
    "filename = re.sub(r'[^a-zA-Z0-9_\\- .]', '', filename) + '.json'\n",
    "\n",
    "# Filter to be applied while fetching logs\n",
    "filters = ['language::en',\n",
    "           'meta.summary.input_text_length_i>0']\n",
    "\n",
    "# Fetch the logs, set `overwrite` to True to reload logs\n",
    "log_raw_data = get_logs(sdk_object,\n",
    "                assistant_information,\n",
    "                num_logs=20000,\n",
    "                filename=filename,\n",
    "                filters=filters,\n",
    "                overwrite=True)\n",
    "\n",
    "df_logs = pd.DataFrame(log_raw_data)\n",
    "\n",
    "if log_raw_data is not None:\n",
    "    # Mark that logs have been loaded\n",
    "    logs_loaded = True\n",
    "else:\n",
    "    logs_loaded = False"
   ]
  },
  {
   "cell_type": "markdown",
   "metadata": {},
   "source": [
    "### <a id=\"load_local\"></a> 2.2 Option two: from JSON files\n",
    "\n",
    "#### 2.2.1 Load assistant definition\n",
    "\n",
    "You can use Watson Assistant `/workspaces` API to generate assistant definition file. See [Workspaces API](https://cloud.ibm.com/apidocs/assistant/assistant-v1#get-information-about-a-workspace) for more information. You can also use [Logs Notebook](http://) to prepare the assistant definition file."
   ]
  },
  {
   "cell_type": "code",
   "execution_count": null,
   "metadata": {},
   "outputs": [],
   "source": [
    "if not assistant_loaded:\n",
    "    \n",
    "    # Run the following code for importing demo skill\n",
    "    import requests\n",
    "    print('Loading demo skill definition from Watson developer cloud GitHub repo ... ', end='')\n",
    "    skill_data = requests.get(\"https://raw.githubusercontent.com/watson-developer-cloud/assistant-improve-recommendations-notebook/master/notebook/data/book_recommender_skill.json\").text    \n",
    "    df_assistant = json_normalize(json.loads(skill_data))\n",
    "    \n",
    "#    # Specify assistant definition JSON file\n",
    "#     assistant_definition_file = 'SPECIFY_FILE_NAME'\n",
    "#     print('Loading assistant definition from {}'.format(assistant_definition_file))\n",
    "\n",
    "#    # Store assistant definition in a dataframe\n",
    "#     df_assistant = json_normalize(json.load(open(assistant_definition_file)))\n",
    "\n",
    "    # Get all intents\n",
    "    assistant_intents = [intent['intent'] for intent in df_assistant['intents'].values[0]] \n",
    "\n",
    "    # Get all dialog nodes\n",
    "    assistant_nodes = pd.DataFrame(df_assistant['dialog_nodes'].values[0])\n",
    "    print('completed!')\n",
    "# else:\n",
    "#     print('Assistant definition has been loaded in Section 2.1.2.')"
   ]
  },
  {
   "cell_type": "markdown",
   "metadata": {},
   "source": [
    "#### 2.2.2 Load a log JSON file\n",
    "\n",
    "Another option is to load an existing log JSON file.  Log JSON files can be produced by using [Logs notebook](https://github.com/watson-developer-cloud/assistant-improve-recommendations-notebook/blob/master/notebook/Logs%20Notebook.ipynb), or [`fetch_logs`](https://github.com/watson-developer-cloud/assistant-improve-recommendations-notebook/blob/master/src/main/python/fetch_logs.py) script."
   ]
  },
  {
   "cell_type": "code",
   "execution_count": null,
   "metadata": {},
   "outputs": [],
   "source": [
    "if not logs_loaded:\n",
    "    \n",
    "    # Run the following code for importing logs of the demo skill \n",
    "    import gzip\n",
    "    print('Loading demo log data from Watson developer cloud GitHub repo ... ', end='')\n",
    "    !curl -O https://raw.githubusercontent.com/watson-developer-cloud/assistant-improve-recommendations-notebook/master/notebook/data/book_recommender_logs.gz\n",
    "    with gzip.open('book_recommender_logs.gz', 'rt') as f:\n",
    "        json_data = json.load(f)\n",
    "        df_logs = pd.DataFrame(json_data)\n",
    "        \n",
    "    # The following code is for loading your log file\n",
    "    # Specify a log JSON file\n",
    "    # logs = load_logs_from_file(filename='logs.json'\n",
    "    print('completed!')\n",
    "else:\n",
    "    print('Logs have been loaded in Section 2.1.3.')\n"
   ]
  },
  {
   "cell_type": "markdown",
   "metadata": {},
   "source": [
    "### <a id=\"format_data\"></a> 2.3 Format the log data\n",
    "The logs returned from `logs` API are stored in a nested structure. In this step, we expand the nested structure and extract the fields used for analysis."
   ]
  },
  {
   "cell_type": "code",
   "execution_count": null,
   "metadata": {
    "scrolled": false
   },
   "outputs": [],
   "source": [
    "df_formatted = format_logs_disambiguation(df_logs)"
   ]
  },
  {
   "cell_type": "markdown",
   "metadata": {},
   "source": [
    "## 3. Visualize Customer Effort <a id=\"overview\"></a>"
   ]
  },
  {
   "cell_type": "markdown",
   "metadata": {},
   "source": [
    "### 3.1 Extract utterances containing disambiguations or more options <a id=\"conversation_extraction\"></a>"
   ]
  },
  {
   "cell_type": "code",
   "execution_count": null,
   "metadata": {},
   "outputs": [],
   "source": [
    "disambiguation_utterances = extract_disambiguation_utterances(df_formatted)"
   ]
  },
  {
   "cell_type": "markdown",
   "metadata": {},
   "source": [
    "### 3.2 Calculate customer effort <a id=\"calculate\"></a>\n",
    "__Customer Effort__ quantifies how much effort your customers must make in order to achieve their intents. Example below illustrates how we calculate the customer effort of an utterance triggering both disambiguation and more options.\n",
    "\n",
    "![Effort Calculation](imgs/effort_computation.png)"
   ]
  },
  {
   "cell_type": "code",
   "execution_count": null,
   "metadata": {
    "scrolled": false
   },
   "outputs": [],
   "source": [
    "calculate_effort(disambiguation_utterances)"
   ]
  },
  {
   "cell_type": "markdown",
   "metadata": {},
   "source": [
    "### 3.3 Visualize <a id=\"visualize\"></a>\n",
    "\n",
    "The figure below shows the average customer effort over different time intervals. `interval` to set the time interval among {\"minute\", \"5-minute\", \"15-minute\", \"30-minute\", \"hour\", \"day\", \"week\", \"month\"}. Move your cursor over the line or bars to check the effort value and distributions in detail. \n",
    "\n",
    "- Click Box Zoom icon (<img src=\"imgs/box_zoom.png\" style=\"display:inline-block;vertical-align: bottom;\" width=\"30\" atl=\"Box Zoom\"/>) or Wheel Zoom icon (<img src=\"imgs/wheel_zoom.png\" style=\"display:inline-block;vertical-align: bottom;\" width=\"25\" atl=\"Wheel Zoom\"/>) to zoom in or out the figure\n",
    "- Click Reset icon (<img src=\"imgs/reset.png\" style=\"display:inline-block;vertical-align: bottom;\" width=\"25\" atl=\"Reset\"/>) to reset the view\n",
    "- Click Save icon (<img src=\"imgs/save.png\" style=\"display:inline-block;vertical-align: bottom;\" width=\"25\" atl=\"Save\"/>) to save the figure in PNG format\n",
    "- Click Autolearning Enabled Period button below the figure to view the area with Autolearning model applied\n",
    "\n"
   ]
  },
  {
   "cell_type": "code",
   "execution_count": null,
   "metadata": {},
   "outputs": [],
   "source": [
    "show_effort_over_time(disambiguation_utterances, interval='5-minute')"
   ]
  },
  {
   "cell_type": "markdown",
   "metadata": {},
   "source": [
    "## 4. Analyze Customer Effort <a id=\"analysis\"></a>"
   ]
  },
  {
   "cell_type": "markdown",
   "metadata": {},
   "source": [
    "### 4.1 Customer effort vs user clicks <a id=\"effort_click\"></a>\n",
    "\n",
    "The figure below shows the total customer effort (red line) compared with user click distributions (bars) over different time intervals. Use `interval` to set the time interval among {\"minute\", \"5-minute\", \"15-minute\", \"30-minute\", \"hour\", \"day\", \"week\", \"month\"}. Move your cursor over the line or bars to check the effort value and distributions in detail. Click the entries in legend to show or hide the corresponding glyph. Click Autolearning Enabled Period button below the figure to view the area with Autolearning model applied.\n",
    "\n",
    "Autolearning gains insights from user clicks from disambiguation and more options. As time goes on, autolearning reduces the uncertainty of your assistant when interacting with your customers. You should observe a decreasing trend of total customer effort over time. You may also observe a similar trend of user clicks (bars). These indicate autolearning has effectively improved your assistant.\n",
    "\n",
    "In addition to reducing the uncertainty, autolearning also learns to include and promote the best answers in disambiguation and more options lists. Remember that clicking on \"None of the Above\" generates the highest customer effort, followed by More Options and Disambiguation. Therefore, you may observe an increasing proportion of disambiguation clicks (grey bar) with a decreasing proportion of More Options clicks (light blue bar) and None of the Above clicks (dark blue bar).\n"
   ]
  },
  {
   "cell_type": "code",
   "execution_count": null,
   "metadata": {},
   "outputs": [],
   "source": [
    "show_click_vs_effort(disambiguation_utterances, interval='5-minute')"
   ]
  },
  {
   "cell_type": "markdown",
   "metadata": {},
   "source": [
    "### 4.2 Top dialog nodes with the highest effort<a id=\"effort_high\"></a>\n",
    "\n",
    "The figure below shows the top N nodes that generate the highest customer effort. Update the top variable specify the maximum number of nodes to visualize. Move the cursor on the bar to check number of logs and total customer effort. The X-Axis represents the total customer effort."
   ]
  },
  {
   "cell_type": "code",
   "execution_count": null,
   "metadata": {},
   "outputs": [],
   "source": [
    "show_top_node_effort(disambiguation_utterances, top=10, assistant_nodes=assistant_nodes)"
   ]
  },
  {
   "cell_type": "markdown",
   "metadata": {},
   "source": [
    "### 4.3 Customer effort on dialog nodes<a id=\"effort_node\"></a>\n",
    "\n",
    "- *\\\"How does customer effort change over time for specific dialog node?\\\"*\n",
    "- *\\\"Does autolearning help on reducing the customer effort?\\\"*\n",
    "- *\\\"What are the dialog nodes require additional analysis?\\\"*\n",
    "\n",
    "The figure below helps you answer the above questions. The drop-down list contains all of the dialog nodes generated customer effort. Select a node and view the customer effort spent over time. Update the interval parameter to set a time interval. You can choose from:  {\"minute\", \"5-minute\", \"15-minute\", \"30-minute\", \"hour\", \"day\", \"week\", \"month\"}. Move your cursor over the bars to check the effort value."
   ]
  },
  {
   "cell_type": "code",
   "execution_count": null,
   "metadata": {},
   "outputs": [],
   "source": [
    "show_node_effort(disambiguation_utterances, assistant_nodes, interval='5-minute')"
   ]
  },
  {
   "cell_type": "markdown",
   "metadata": {},
   "source": [
    "### 4.4 Customer effort on utterances <a id=\"effort_utterance\"></a>\n",
    "\n",
    "- *\\\"What are the questions require high customer effort?\\\"*\n",
    "- *\\\"Does autolearning help on reducing the customer effort?\\\"*\n",
    "- *\\\"What are the questions require additional analysis?\\\"*\n",
    "\n",
    "The figure below helps you answer the above questions. Use the drop-down to select an utterance to view its average customer effort over time. Use the top parameter to specify the top N utterances with the highest average effort. Use the interval parameter to set a time interval.  You can choose from: {\"minute\", \"5-minute\", \"15-minute\", \"30-minute\", \"hour\", \"day\", \"week\", \"month\"}. Move your cursor over the bars to check the effort value.\n"
   ]
  },
  {
   "cell_type": "code",
   "execution_count": null,
   "metadata": {},
   "outputs": [],
   "source": [
    "show_input_effort(disambiguation_utterances, top=20, interval='5-minute')"
   ]
  },
  {
   "cell_type": "markdown",
   "metadata": {},
   "source": [
    "## 5. Identify the most confused dialog nodes<a id=\"node\"></a>\n",
    "\n",
    "Your assistant uses dialog nodes to interact with your customers. When there is no decisive dialog node that can handle a customer's input, your assistant triggers [Disambiguation](https://cloud.ibm.com/docs/assistant?topic=assistant-dialog-runtime#dialog-runtime-disambiguation) or More Options (TBD link) lists. These lists of potential nodes allow the customers to pick the right one. The Dialog nodes that frequently co-occur in Disambiguation or More Options are the most confused ones.\n"
   ]
  },
  {
   "cell_type": "markdown",
   "metadata": {},
   "source": [
    "### 5.1 Top N frequently co-occurred dialog nodes<a id=\"node_top\"></a>\n",
    "\n",
    "The table below shows the top N dialog node pairs that frequently co-occurred in disambiguation and more options. These pairs of nodes cause confusion to your assistant. To eliminate confusion, check the intents used in each pair of nodes to make sure they are distinct. You can alleviate the problem using the following techniques:\n",
    "\n",
    "1. Fix existing training that is causing confusion between intents\n",
    "2. Add training to confused intents to clarify their boundaries\n",
    "3. Add training to imprecise intents\n",
    "4. Combine the confused intents into a single intent and distinguish using entities\n",
    "\n",
    "Check \"*Improve – Effectiveness*\" on Page 11 of [Watson Assistant Continuous Improvement Best Practices](https://github.com/watson-developer-cloud/assistant-improve-recommendations-notebook/raw/master/notebook/IBM%20Watson%20Assistant%20Continuous%20Improvement%20Best%20Practices.pdf) for more information."
   ]
  },
  {
   "cell_type": "code",
   "execution_count": null,
   "metadata": {},
   "outputs": [],
   "source": [
    "# Set to explude nodes in the analysis\n",
    "exclude_nodes = ['hi', 'one', 'two']\n",
    "cooccurrence_matrix = generate_cooccurrence_matrix(disambiguation_utterances, assistant_nodes = assistant_nodes, exclude_nodes = exclude_nodes)\n",
    "top_confused_pairs = cooccurrence_matrix.where(np.triu(np.ones(cooccurrence_matrix.shape)).astype(np.bool)).stack().nlargest(cooccurrence_matrix.shape[0]).to_frame()\n",
    "top_confused_pairs.columns = ['Count']\n",
    "top_confused_pairs = top_confused_pairs.reset_index()\n",
    "top_confused_pairs.columns = ['Node A', 'Node B', 'Count']\n",
    "show_cooccured_nodes(top_confused_pairs)\n"
   ]
  },
  {
   "cell_type": "markdown",
   "metadata": {},
   "source": [
    "### 5.2 Dialog node co-occurrence heatmap <a id=\"node_heat\"></a>\n",
    "\n",
    "The heatmap below shows the co-occurrence count of the top N node pairs in disambiguation lists. Use `TOP_N_NODE_PAIR` to specify the number of pairs to visualize. You can move your cursor on each square to view count information."
   ]
  },
  {
   "cell_type": "code",
   "execution_count": null,
   "metadata": {},
   "outputs": [],
   "source": [
    "# Select nodes appearing in the top co-occurred node pair\n",
    "TOP_N_NODE_PAIR = 30\n",
    "selected_nodes = pd.unique(top_confused_pairs.head(TOP_N_NODE_PAIR)[['Node A', 'Node B']].values.ravel())\n",
    "selected_matrix = cooccurrence_matrix[selected_nodes].loc[selected_nodes]\n",
    "\n",
    "# Select all nodes\n",
    "# selected_matrix = cooccurrence_matrix\n",
    "\n",
    "show_cooccured_heatmap(selected_matrix)\n"
   ]
  },
  {
   "cell_type": "markdown",
   "metadata": {},
   "source": [
    "## 6. Analyze user clicks <a id=\"click\"></a>\n",
    "\n",
    "The figures below help you analyze the improvement autolearning made through user click data. \"Click-1\" indicates that users click on the top answer in Disambiguation or More Options. For example,\n",
    "\n",
    "<img src=\"imgs/click.png\" alt=\"User Clicks\" width=\"400\"/>\n",
    "\n",
    "Remember that by observing and learning customer behavior, autolearning is able to (1) reduce the uncertainty of your assistant when interacting with your customers and (2) append and promote the best answers in disambiguation and more options lists.\n",
    "\n",
    "Indicators for (1):\n",
    "- A decreasing trend of clicks in both Disambiguation and More Options\n",
    "- A more rapid reduction of clicks in More Options compared to Disambiguation\n",
    "\n",
    "Indicators for (2):\n",
    "- A reduction in the proportion of high-ranking clicks, e.g., \"Click-5\" and \"Click-4\", for both disambiguation and more options\n",
    "- An increase in the proportion of \"Click-1\"\n",
    "\n",
    "Use the interval parameter to set a time interval.  You can choose from: {\"minute\", \"5-minute\", \"15-minute\", \"30-minute\", \"hour\", \"day\", \"week\", \"month\"}. Move your cursor over bars to check click distributions in detail. Click the entries in legend to show or hide clicks.\n"
   ]
  },
  {
   "cell_type": "code",
   "execution_count": null,
   "metadata": {
    "scrolled": false
   },
   "outputs": [],
   "source": [
    "show_disambiguation_click(disambiguation_utterances, interval='5-minute')"
   ]
  },
  {
   "cell_type": "code",
   "execution_count": null,
   "metadata": {},
   "outputs": [],
   "source": [
    "show_more_options_click(disambiguation_utterances, interval='5-minute')"
   ]
  },
  {
   "cell_type": "markdown",
   "metadata": {},
   "source": [
    "Copyright © 2020 IBM. This notebook and its source code are released under the terms of the MIT License."
   ]
  }
 ],
 "metadata": {
  "kernelspec": {
   "display_name": "Python 3",
   "language": "python",
   "name": "python3"
  },
  "language_info": {
   "codemirror_mode": {
    "name": "ipython",
    "version": 3
   },
   "file_extension": ".py",
   "mimetype": "text/x-python",
   "name": "python",
   "nbconvert_exporter": "python",
   "pygments_lexer": "ipython3",
   "version": "3.6.8"
  }
 },
 "nbformat": 4,
 "nbformat_minor": 4
}
