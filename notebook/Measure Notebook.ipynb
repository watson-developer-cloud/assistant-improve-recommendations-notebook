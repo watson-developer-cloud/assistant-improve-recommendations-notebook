{
 "cells": [
  {
   "cell_type": "markdown",
   "metadata": {},
   "source": [
    "# Measure Watson Assistant Performance\n",
    "\n",
    "<img src=\"https://raw.githubusercontent.com/watson-developer-cloud/assistant-improve-recommendations-notebook/master/notebook/imgs/measure_process.png\" alt=\"Measure Process\" width=\"600\"/>\n",
    "\n",
    "## Introduction\n",
    "\n",
    "This notebook demonstrates how to setup automated metrics that help you measure, monitor, and understand the behavior of your Watson Assistant system. As described in <a href=\"https://github.com/watson-developer-cloud/assistant-improve-recommendations-notebook/raw/master/notebook/IBM%20Watson%20Assistant%20Continuous%20Improvement%20Best%20Practices.pdf\" target=\"_blank\" rel=\"noopener noreferrer\">Watson Assistant Continuous Improvement Best Practices</a>, this is the first step of your continuous improvement process. The goal of this step is to understand where your assistant is doing well vs where it isn’t and to potentially focus your improvement effort to one of the problem areas identified. We define two measures to achieve this goal: **Coverage** and **Effectiveness**.\n",
    "\n",
    "- **Coverage** is the portion of total user messages your assistant is attempting to respond to.\n",
    "\n",
    "- **Effectiveness** refers to how well your assistant is handling the conversations it is attempting to respond to.\n",
    "\n",
    "The pre-requisite for running this notebook is Watson Assistant (formerly Watson Conversation). This notebook assumes familiarity with Watson Assistant and concepts such as skills, workspaces, intents and training examples. \n",
    "\n",
    "### Programming language and environment\n",
    "Some familiarity with Python is recommended. This notebook runs on Python 3.5+ environment.\n"
   ]
  },
  {
   "cell_type": "markdown",
   "metadata": {},
   "source": [
    "## Table of contents\n",
    "1. [Configuration and setup](#setup)<br>\n",
    "    1.1 [Apply global CSS styles](#setup1)<br>\n",
    "    1.2 [Install Assistant Improve Toolkit](#python)<br>\n",
    "    1.3 [Import functions used in the notebook](#function)<br>\n",
    "2. [Load and format data](#load)<br>\n",
    "    2.1 [Option one: from a Watson Assistant instance](#load_remote)<br>\n",
    "    2.2 [Option two: from JSON files](#load_local)<br>\n",
    "    2.3 [Format the log data](#format_data)<br>\n",
    "3. [Define coverage and effectiveness metrics](#set_metrics)<br>\n",
    "    3.1 [Customize coverage](#set_coverage)<br>\n",
    "    3.2 [Customize effectiveness](#set_effectiveness)<br>\n",
    "4. [Calculate overall coverage and effectiveness](#overall)<br>\n",
    "    4.1 [Calculate overall metrics](#overall1)<br>\n",
    "    4.2 [Display overall results](#overall2)<br>\n",
    "5. [Analyze coverage](#msg_analysis)<br>\n",
    "    5.1 [Display overall coverage](#msg_analysis1)<br>\n",
    "    5.2 [Calculate coverage over time](#msg_analysis2)<br>\n",
    "6. [Analyze effectiveness](#conv_analysis)<br>\n",
    "    6.1 [Generate excel file and upload to our project](#conv_analysis1)<br>\n",
    "    6.2 [Plot breakdown by effectiveness graph](#conv_analysis2)<br>\n",
    "7. [Root cause analysis of non coverage](#root_cause)<br>\n",
    "8. [Abandoned and resolved intent analysis](#abandoned_resolved_intents)<br>\n",
    "    8.1 [Count of all started intents](#started_intents)<br>\n",
    "    8.2 [Analyze resolved intents](#resolved_intents)<br>\n",
    "    8.3 [Analyze abandoned intents](#abandoned_intents)<br>\n",
    "9. [Summary and next steps](#summary)<br>"
   ]
  },
  {
   "cell_type": "markdown",
   "metadata": {},
   "source": [
    "<a id=\"setup\"></a>\n",
    "## 1. Configuration and Setup\n",
    "\n",
    "In this section, we install and import required libraries and functions and add project access token."
   ]
  },
  {
   "cell_type": "markdown",
   "metadata": {},
   "source": [
    "### <a id=\"setup1\"></a> 1.1 Import and apply global CSS styles"
   ]
  },
  {
   "cell_type": "code",
   "execution_count": 1,
   "metadata": {},
   "outputs": [
    {
     "name": "stdout",
     "output_type": "stream",
     "text": [
      "  % Total    % Received % Xferd  Average Speed   Time    Time     Time  Current\n",
      "                                 Dload  Upload   Total   Spent    Left  Speed\n",
      "100   348  100   348    0     0    348      0  0:00:01 --:--:--  0:00:01  3910\n"
     ]
    },
    {
     "data": {
      "text/html": [
       "<style>\n",
       "    h1 {\n",
       "        font-family: \"HelveticaNeue-Light\", \"Helvetica Neue Light\", \"Helvetica Neue\";\n",
       "    }\n",
       "    div.text_cell_render{\n",
       "        font-family: \"HelveticaNeue-Light\", \"Helvetica Neue Light\", \"Helvetica Neue\";\n",
       "        line-height: 145%;\n",
       "        font-size: 120%;\n",
       "    }\n",
       "    .warning{\n",
       "        color: rgb( 240, 20, 20 )\n",
       "        }  \n",
       "</style>\n"
      ],
      "text/plain": [
       "<IPython.core.display.HTML object>"
      ]
     },
     "execution_count": 1,
     "metadata": {},
     "output_type": "execute_result"
    }
   ],
   "source": [
    "# Import and apply global CSS styles\n",
    "from IPython.display import HTML\n",
    "!curl -O https://raw.githubusercontent.com/watson-developer-cloud/assistant-improve-recommendations-notebook/master/src/main/css/custom.css\n",
    "HTML(open('custom.css', 'r').read())"
   ]
  },
  {
   "cell_type": "markdown",
   "metadata": {},
   "source": [
    "### <a id=\"python\"></a> 1.2 Install Assistant Improve Toolkit"
   ]
  },
  {
   "cell_type": "code",
   "execution_count": 2,
   "metadata": {
    "scrolled": true
   },
   "outputs": [
    {
     "name": "stdout",
     "output_type": "stream",
     "text": [
      "Requirement already up-to-date: assistant-improve-toolkit in /Users/zhezhang/.local/lib/python3.6/site-packages (1.1.3)\n",
      "Requirement already satisfied, skipping upgrade: pandas>=1.0.3 in /Users/zhezhang/.local/lib/python3.6/site-packages (from assistant-improve-toolkit) (1.0.3)\n",
      "Requirement already satisfied, skipping upgrade: bokeh==2.0.0 in /Users/zhezhang/.local/lib/python3.6/site-packages (from assistant-improve-toolkit) (2.0.0)\n",
      "Requirement already satisfied, skipping upgrade: tqdm==4.43.0 in /Users/zhezhang/.local/lib/python3.6/site-packages (from assistant-improve-toolkit) (4.43.0)\n",
      "Requirement already satisfied, skipping upgrade: scikit-learn>=0.21.3 in /Users/zhezhang/.local/lib/python3.6/site-packages (from assistant-improve-toolkit) (0.22.2.post1)\n",
      "Requirement already satisfied, skipping upgrade: matplotlib==3.2.1 in /Users/zhezhang/.local/lib/python3.6/site-packages (from assistant-improve-toolkit) (3.2.1)\n",
      "Requirement already satisfied, skipping upgrade: XlsxWriter==1.2.8 in /Users/zhezhang/.local/lib/python3.6/site-packages (from assistant-improve-toolkit) (1.2.8)\n",
      "Requirement already satisfied, skipping upgrade: ibm-watson>=4.3.0 in /Users/zhezhang/.local/lib/python3.6/site-packages (from assistant-improve-toolkit) (4.5.0)\n",
      "Requirement already satisfied, skipping upgrade: numpy>=1.18.2 in /Users/zhezhang/.local/lib/python3.6/site-packages (from assistant-improve-toolkit) (1.18.2)\n",
      "Requirement already satisfied, skipping upgrade: requests>=2.18.4 in /Users/zhezhang/.pyenv/versions/3.6.8/lib/python3.6/site-packages (from assistant-improve-toolkit) (2.24.0)\n",
      "Requirement already satisfied, skipping upgrade: xlrd==1.2.0 in /Users/zhezhang/.local/lib/python3.6/site-packages (from assistant-improve-toolkit) (1.2.0)\n",
      "Requirement already satisfied, skipping upgrade: pytz>=2017.2 in /Users/zhezhang/.pyenv/versions/3.6.8/lib/python3.6/site-packages (from pandas>=1.0.3->assistant-improve-toolkit) (2019.3)\n",
      "Requirement already satisfied, skipping upgrade: python-dateutil>=2.6.1 in /Users/zhezhang/.local/lib/python3.6/site-packages (from pandas>=1.0.3->assistant-improve-toolkit) (2.8.1)\n",
      "Requirement already satisfied, skipping upgrade: PyYAML>=3.10 in /Users/zhezhang/.pyenv/versions/3.6.8/lib/python3.6/site-packages (from bokeh==2.0.0->assistant-improve-toolkit) (5.3)\n",
      "Requirement already satisfied, skipping upgrade: Jinja2>=2.7 in /Users/zhezhang/.pyenv/versions/3.6.8/lib/python3.6/site-packages (from bokeh==2.0.0->assistant-improve-toolkit) (2.11.1)\n",
      "Requirement already satisfied, skipping upgrade: pillow>=4.0 in /Users/zhezhang/.local/lib/python3.6/site-packages (from bokeh==2.0.0->assistant-improve-toolkit) (7.1.1)\n",
      "Requirement already satisfied, skipping upgrade: packaging>=16.8 in /Users/zhezhang/.pyenv/versions/3.6.8/lib/python3.6/site-packages (from bokeh==2.0.0->assistant-improve-toolkit) (20.3)\n",
      "Requirement already satisfied, skipping upgrade: tornado>=5 in /Users/zhezhang/.pyenv/versions/3.6.8/lib/python3.6/site-packages (from bokeh==2.0.0->assistant-improve-toolkit) (6.0.3)\n",
      "Requirement already satisfied, skipping upgrade: typing_extensions>=3.7.4 in /Users/zhezhang/.pyenv/versions/3.6.8/lib/python3.6/site-packages (from bokeh==2.0.0->assistant-improve-toolkit) (3.7.4.1)\n",
      "Requirement already satisfied, skipping upgrade: joblib>=0.11 in /Users/zhezhang/.pyenv/versions/3.6.8/lib/python3.6/site-packages (from scikit-learn>=0.21.3->assistant-improve-toolkit) (0.14.1)\n",
      "Requirement already satisfied, skipping upgrade: scipy>=0.17.0 in /Users/zhezhang/.pyenv/versions/3.6.8/lib/python3.6/site-packages (from scikit-learn>=0.21.3->assistant-improve-toolkit) (1.4.1)\n",
      "Requirement already satisfied, skipping upgrade: pyparsing!=2.0.4,!=2.1.2,!=2.1.6,>=2.0.1 in /Users/zhezhang/.pyenv/versions/3.6.8/lib/python3.6/site-packages (from matplotlib==3.2.1->assistant-improve-toolkit) (2.4.6)\n",
      "Requirement already satisfied, skipping upgrade: kiwisolver>=1.0.1 in /Users/zhezhang/.pyenv/versions/3.6.8/lib/python3.6/site-packages (from matplotlib==3.2.1->assistant-improve-toolkit) (1.1.0)\n",
      "Requirement already satisfied, skipping upgrade: cycler>=0.10 in /Users/zhezhang/.pyenv/versions/3.6.8/lib/python3.6/site-packages (from matplotlib==3.2.1->assistant-improve-toolkit) (0.10.0)\n",
      "Requirement already satisfied, skipping upgrade: websocket-client==0.48.0 in /Users/zhezhang/.local/lib/python3.6/site-packages (from ibm-watson>=4.3.0->assistant-improve-toolkit) (0.48.0)\n",
      "Requirement already satisfied, skipping upgrade: ibm-cloud-sdk-core==1.5.1 in /Users/zhezhang/.local/lib/python3.6/site-packages (from ibm-watson>=4.3.0->assistant-improve-toolkit) (1.5.1)\n",
      "Requirement already satisfied, skipping upgrade: chardet<4,>=3.0.2 in /Users/zhezhang/.local/lib/python3.6/site-packages (from requests>=2.18.4->assistant-improve-toolkit) (3.0.4)\n",
      "Requirement already satisfied, skipping upgrade: idna<3,>=2.5 in /Users/zhezhang/.pyenv/versions/3.6.8/lib/python3.6/site-packages (from requests>=2.18.4->assistant-improve-toolkit) (2.6)\n",
      "Requirement already satisfied, skipping upgrade: urllib3!=1.25.0,!=1.25.1,<1.26,>=1.21.1 in /Users/zhezhang/.pyenv/versions/3.6.8/lib/python3.6/site-packages (from requests>=2.18.4->assistant-improve-toolkit) (1.22)\n",
      "Requirement already satisfied, skipping upgrade: certifi>=2017.4.17 in /Users/zhezhang/.local/lib/python3.6/site-packages (from requests>=2.18.4->assistant-improve-toolkit) (2019.11.28)\n",
      "Requirement already satisfied, skipping upgrade: six>=1.5 in /Users/zhezhang/.local/lib/python3.6/site-packages (from python-dateutil>=2.6.1->pandas>=1.0.3->assistant-improve-toolkit) (1.14.0)\n",
      "Requirement already satisfied, skipping upgrade: MarkupSafe>=0.23 in /Users/zhezhang/.pyenv/versions/3.6.8/lib/python3.6/site-packages (from Jinja2>=2.7->bokeh==2.0.0->assistant-improve-toolkit) (1.1.1)\n",
      "Requirement already satisfied, skipping upgrade: setuptools in /Users/zhezhang/.local/lib/python3.6/site-packages (from kiwisolver>=1.0.1->matplotlib==3.2.1->assistant-improve-toolkit) (47.1.1)\n",
      "Requirement already satisfied, skipping upgrade: PyJWT>=1.7.1 in /Users/zhezhang/.local/lib/python3.6/site-packages (from ibm-cloud-sdk-core==1.5.1->ibm-watson>=4.3.0->assistant-improve-toolkit) (1.7.1)\n",
      "\u001b[33mYou are using pip version 18.1, however version 20.2.2 is available.\n",
      "You should consider upgrading via the 'pip install --upgrade pip' command.\u001b[0m\n"
     ]
    }
   ],
   "source": [
    "!pip3 install --user --upgrade \"assistant-improve-toolkit\";"
   ]
  },
  {
   "cell_type": "markdown",
   "metadata": {},
   "source": [
    "### <a id=\"function\"></a> 1.3 Import functions used in the notebook"
   ]
  },
  {
   "cell_type": "code",
   "execution_count": 3,
   "metadata": {
    "pycharm": {
     "name": "#%%\n"
    }
   },
   "outputs": [],
   "source": [
    "# Import required libraries\n",
    "import pandas as pd\n",
    "import json\n",
    "import re\n",
    "from pandas import json_normalize\n",
    "from ibm_watson import AssistantV1\n",
    "from IPython.display import display\n",
    "from ibm_cloud_sdk_core.authenticators import IAMAuthenticator\n",
    "from ibm_cloud_sdk_core.authenticators import BasicAuthenticator\n",
    "\n",
    "# Import the visualization related functions\n",
    "from assistant_improve_toolkit.visualize_func import make_pie, coverage_barh, width_bar, show_coverage_over_time\n",
    "# Import Cloud Object Storage related functions   \n",
    "from assistant_improve_toolkit.cos_op import generate_link, generate_excel_measure, export_result_excel\n",
    "# Import Watson Assistant related functions\n",
    "from assistant_improve_toolkit.watson_assistant_func import get_logs, get_assistant_definition, load_logs_from_file\n",
    "# Import Dataframe computation related functions\n",
    "from assistant_improve_toolkit.computation_func import get_effective_df, get_coverage_df, chk_is_valid_node, format_data\n"
   ]
  },
  {
   "cell_type": "markdown",
   "metadata": {},
   "source": [
    "## <a id=\"load\"></a> 2. Load and format data "
   ]
  },
  {
   "cell_type": "markdown",
   "metadata": {},
   "source": [
    "### <a id=\"load_remote\"></a> 2.1 Option one: from a Watson Assistant instance\n",
    "\n",
    "#### 2.1.1 Add Watson Assistant configuration\n",
    "\n",
    "This notebook uses the Watson Assistant v1 API to access your skill definition and your logs. Provide your Watson Assistant credentials and the workspace id that you want to fetch data from.\n",
    "\n",
    "You can access the values you need for this configuration from the Watson Assistant user interface. Go to the Skills page and select View API Details from the menu of a skill tile.\n",
    "\n",
    "- The string to set in the call to `IAMAuthenticator` is your Api Key under Service Credentials\n",
    "- The string to set for version is a date in the format version=YYYY-MM-DD. The version date string determines which version of the Watson Assistant V1 API will be called. For more information about version, see [Versioning](https://cloud.ibm.com/apidocs/assistant/assistant-v1#versioning).\n",
    "- The string to pass into `assistant.set_service_url` is the portion of the Legacy v1 Workspace URL that ends with `/api`. For example, `https://gateway.watsonplatform.net/assistant/api`. This value will be different depending on the location of your service instance. Do not pass in the entire Workspace URL."
   ]
  },
  {
   "cell_type": "code",
   "execution_count": 4,
   "metadata": {},
   "outputs": [],
   "source": [
    "# Provide credentials to connect to assistant\n",
    "authenticator = IAMAuthenticator('API_KEY')\n",
    "sdk_object = AssistantV1(version='2020-04-01', authenticator=authenticator)\n",
    "sdk_object.set_service_url('URL')"
   ]
  },
  {
   "cell_type": "markdown",
   "metadata": {},
   "source": [
    "Add the information of your assistant. To load the skill of an assistant in the next section, you need to provide either Workspace ID or Skill ID. The values can be found on the View API Details page. If you are using versioning in Watson Assistant, this ID represents the Development version of your skill definition.\n",
    "\n",
    "For more information about authentication and finding credentials in the Watson Assistant UI, please see [Watson Assistant v1 API](https://cloud.ibm.com/apidocs/assistant/assistant-v1) in the offering documentation."
   ]
  },
  {
   "cell_type": "code",
   "execution_count": 5,
   "metadata": {},
   "outputs": [],
   "source": [
    "assistant_information = {'workspace_id' : '',\n",
    "                         'skill_id' : '',\n",
    "                         'assistant_id' : ''}"
   ]
  },
  {
   "cell_type": "markdown",
   "metadata": {},
   "source": [
    "#### 2.1.2 Fetch and load the definition of your assistant \n",
    "\n",
    "Fetch assistant definition and load into a dataframe. Note that assistant definition will be saved into a cached file and loaded from the file. Set `overwrite` to True to refresh the cached file."
   ]
  },
  {
   "cell_type": "code",
   "execution_count": 6,
   "metadata": {},
   "outputs": [
    {
     "name": "stdout",
     "output_type": "stream",
     "text": [
      "Please provide a valid Workspace ID or Skill ID!\n"
     ]
    }
   ],
   "source": [
    "df_assistant = get_assistant_definition(sdk_object, assistant_information, overwrite=False)\n",
    "\n",
    "if df_assistant is not None:\n",
    "    # Get all intents\n",
    "    assistant_intents = [intent['intent'] for intent in df_assistant['intents'].values[0]] \n",
    "    # Get all dialog nodes\n",
    "    assistant_nodes = pd.DataFrame(df_assistant['dialog_nodes'].values[0])\n",
    "    assistant_loaded = True\n",
    "else:\n",
    "    assistant_loaded = False"
   ]
  },
  {
   "cell_type": "markdown",
   "metadata": {},
   "source": [
    "#### 2.1.3 Fetch and load logs\n",
    "\n",
    "Fetch user generated logs. You can apply filters while fetching logs, e.g.,\n",
    "- removing empty input: `meta.summary.input_text_length_i>0`\n",
    "- fetching logs generated after a timestamp: `response_timestamp>=2018-09-18`\n",
    "\n",
    "See more examples in [Logs notebook](https://github.com/watson-developer-cloud/assistant-improve-recommendations-notebook/blob/master/notebook/Logs%20Notebook.ipynb).\n",
    "\n",
    "Note that logs will be saved into a cached file and loaded from the file. Set `overwrite` to True to refresh the cached file."
   ]
  },
  {
   "cell_type": "code",
   "execution_count": 7,
   "metadata": {},
   "outputs": [
    {
     "name": "stdout",
     "output_type": "stream",
     "text": [
      "Please provide a valid Workspace ID, Assistant ID, or Skill ID!\n"
     ]
    }
   ],
   "source": [
    "# Define output filename\n",
    "filename = 'logs'\n",
    "# Create file name\n",
    "if assistant_information['workspace_id'] is not None and len(assistant_information['workspace_id']) > 0:\n",
    "    filename += '_workspace_' + assistant_information['workspace_id']\n",
    "if assistant_information['assistant_id'] is not None and len(assistant_information['assistant_id']) > 0:\n",
    "    filename += '_assistant_' + assistant_information['assistant_id']\n",
    "if assistant_information['skill_id'] is not None and len(assistant_information['skill_id']) > 0:\n",
    "    filename += '_skill_' +  assistant_information['skill_id']\n",
    "# Remove all special characters from file name\n",
    "filename = re.sub(r'[^a-zA-Z0-9_\\- .]', '', filename) + '.json'\n",
    "\n",
    "# Filter to be applied while fetching logs\n",
    "filters = ['language::en',\n",
    "           'meta.summary.input_text_length_i>0']\n",
    "\n",
    "# Fetch the logs, set `overwrite` to True to reload logs\n",
    "log_raw_data = get_logs(sdk_object,\n",
    "                assistant_information,\n",
    "                num_logs=20000,\n",
    "                filename=filename,\n",
    "                filters=filters,\n",
    "                overwrite=False)\n",
    "\n",
    "df_logs = pd.DataFrame(log_raw_data)\n",
    "\n",
    "if log_raw_data is not None:\n",
    "    # Mark that logs have been loaded\n",
    "    logs_loaded = True\n",
    "else:\n",
    "    logs_loaded = False\n"
   ]
  },
  {
   "cell_type": "markdown",
   "metadata": {},
   "source": [
    "### <a id=\"load_local\"></a> 2.2 Option two: from JSON files\n",
    "\n",
    "#### 2.2.1 Load a workspace JSON file"
   ]
  },
  {
   "cell_type": "code",
   "execution_count": 8,
   "metadata": {},
   "outputs": [
    {
     "name": "stdout",
     "output_type": "stream",
     "text": [
      "Loading workspace data from Watson developer cloud Github repo ... completed!\n"
     ]
    }
   ],
   "source": [
    "if not assistant_loaded:\n",
    "    \n",
    "    # The following code is for using demo workspace\n",
    "    import requests\n",
    "    print('Loading workspace data from Watson developer cloud Github repo ... ', end='')\n",
    "    workspace_data = requests.get(\"https://raw.githubusercontent.com/watson-developer-cloud/assistant-improve-recommendations-notebook/master/notebook/data/workspace.json\").text    \n",
    "    df_assistant = json_normalize(json.loads(workspace_data))\n",
    "    \n",
    "#    # Specify assistant definition JSON file\n",
    "#     assistant_definition_file = 'SPECIFY_FILE_NAME'\n",
    "#     print('Loading assistant definition from {}'.format(assistant_definition_file))\n",
    "\n",
    "#    # Store assistant definition in a dataframe\n",
    "#     df_assistant = json_normalize(json.load(open(assistant_definition_file)))\n",
    "\n",
    "    # Get all intents\n",
    "    assistant_intents = [intent['intent'] for intent in df_assistant['intents'].values[0]] \n",
    "\n",
    "    # Get all dialog nodes\n",
    "    assistant_nodes = pd.DataFrame(df_assistant['dialog_nodes'].values[0])\n",
    "    print('completed!')\n",
    "else:\n",
    "    print('Assistant definition has been loaded in Section 2.1.2.')"
   ]
  },
  {
   "cell_type": "markdown",
   "metadata": {},
   "source": [
    "#### 2.2.2 Load a log JSON file\n",
    "\n",
    "Another option is to load an existing log JSON file.  Log JSON files can be produced by using [Logs notebook](https://github.com/watson-developer-cloud/assistant-improve-recommendations-notebook/blob/master/notebook/Logs%20Notebook.ipynb), or [`fetch_logs`](https://github.com/watson-developer-cloud/assistant-improve-recommendations-notebook/blob/master/src/main/python/fetch_logs.py)."
   ]
  },
  {
   "cell_type": "code",
   "execution_count": 9,
   "metadata": {},
   "outputs": [
    {
     "name": "stdout",
     "output_type": "stream",
     "text": [
      "Loading demo log data from Watson developer cloud Github repo ... completed!\n"
     ]
    }
   ],
   "source": [
    "if not logs_loaded:\n",
    "    # The following code is for using demo logs\n",
    "    import requests\n",
    "    print('Loading demo log data from Watson developer cloud Github repo ... ', end='')\n",
    "    log_raw_data = requests.get(\"https://raw.githubusercontent.com/watson-developer-cloud/assistant-improve-recommendations-notebook/master/notebook/data/sample_logs.json\").text\n",
    "    print('completed!')\n",
    "    logs = json.loads(log_raw_data)\n",
    "\n",
    "    # The following code is for loading your log file\n",
    "    # Specify a log JSON file\n",
    "    # logs = load_logs_from_file(filename='logs.json')\n",
    "\n",
    "    df_logs = pd.DataFrame(logs)\n",
    "else:\n",
    "    print('Logs have been loaded in Section 2.1.3.')"
   ]
  },
  {
   "cell_type": "markdown",
   "metadata": {},
   "source": [
    "### <a id=\"format_data\"></a> 2.3 Format the log data\n",
    "\n",
    "The logs returned from `logs` API are stored in a nested structure. In this step, we expand the nested structure and extract the fields used for analysis."
   ]
  },
  {
   "cell_type": "code",
   "execution_count": 10,
   "metadata": {},
   "outputs": [
    {
     "name": "stdout",
     "output_type": "stream",
     "text": [
      "Extracting request and response ...\n",
      "Extracting context and output ...\n",
      "Extracting intents ...\n",
      "Completed!\n"
     ]
    }
   ],
   "source": [
    "# Format the logs data from the workspace\n",
    "df_formated = format_data(df_logs)"
   ]
  },
  {
   "cell_type": "markdown",
   "metadata": {},
   "source": [
    "<a id=\"set_metrics\"></a>\n",
    "## 3. Define effectiveness and coverage metrics\n",
    "As described in Watson Assistant Continuous Improvement Best Practices, **Effectiveness** and **Coverage** are the two measures that provide a reliable understanding of your assistant’s overall performance. Both of the two measures are customizable based on your preferences. In this section, we provide a guideline for setting each of them."
   ]
  },
  {
   "cell_type": "markdown",
   "metadata": {},
   "source": [
    "### <a id=\"set_coverage\"></a> 3.1 Customize coverage\n",
    "\n",
    "Coverage measures your Watson Assistant system at the utterance level. You may include automated metrics that help identify utterences that your service is not answering. Example metrics include: \n",
    "\n",
    "- Confidence threshold\n",
    "- Dialog information\n",
    "\n",
    "For Confidence threshold, you can set a threshold to include utterances with confidence values below this threshold. For more information regarding Confidence, see [Absolute scoring](https://cloud.ibm.com/docs/services/assistant?topic=assistant-intents#intents-absolute-scoring).\n",
    "\n",
    "For Dialog information, you can specify what the notebook should look for in your logs to determine that a message is not covered by your assistant.\n",
    "\n",
    "- Use the node_ids list to include the identifiers of any dialog nodes you've used to model that a message is out of scope.  \n",
    "- Similarly, use the node_names list to include any dialog nodes.\n",
    "- Use node_conditions for dialog conditions that indicate a message is out of scope.\n",
    "    \n",
    "Note that these lists are treated as \"OR\" conditions - any occurrence of any of them will signify that a message is not covered. \n",
    "\n",
    "__Where to find node id, node name, and node condition__?\n",
    "\n",
    "You can find the values of these variables from your assistant definition JSON file based on following mappings.\n",
    "\n",
    "- node id: `dialog_node`\n",
    "- node name: `title`\n",
    "- node condition: `conditions`\n",
    "\n",
    "You can also find node name, and node condition in your dialog editor. For more information, see [Dialog Nodes](https://cloud.ibm.com/docs/services/assistant?topic=assistant-dialog-overview#dialog-overview-nodes).\n",
    "\n",
    "Below we provide example code for identifying coverage based on confidence and dialog node. "
   ]
  },
  {
   "cell_type": "code",
   "execution_count": 11,
   "metadata": {},
   "outputs": [
    {
     "data": {
      "text/html": [
       "<div>\n",
       "<style scoped>\n",
       "    .dataframe tbody tr th:only-of-type {\n",
       "        vertical-align: middle;\n",
       "    }\n",
       "\n",
       "    .dataframe tbody tr th {\n",
       "        vertical-align: top;\n",
       "    }\n",
       "\n",
       "    .dataframe thead th {\n",
       "        text-align: right;\n",
       "    }\n",
       "</style>\n",
       "<table border=\"1\" class=\"dataframe\">\n",
       "  <thead>\n",
       "    <tr style=\"text-align: right;\">\n",
       "      <th></th>\n",
       "      <th>Condition</th>\n",
       "      <th>Node ID</th>\n",
       "      <th>Node Name</th>\n",
       "      <th>Valid</th>\n",
       "    </tr>\n",
       "  </thead>\n",
       "  <tbody>\n",
       "    <tr>\n",
       "      <th>0</th>\n",
       "      <td>true</td>\n",
       "      <td>node_1_1467910920863</td>\n",
       "      <td>NaN</td>\n",
       "      <td>True</td>\n",
       "    </tr>\n",
       "    <tr>\n",
       "      <th>1</th>\n",
       "      <td>true</td>\n",
       "      <td>node_1_1467919680248</td>\n",
       "      <td>NaN</td>\n",
       "      <td>True</td>\n",
       "    </tr>\n",
       "    <tr>\n",
       "      <th>2</th>\n",
       "      <td>#out_of_scope || #off_topic</td>\n",
       "      <td>node_1_1467743415843</td>\n",
       "      <td>NaN</td>\n",
       "      <td>True</td>\n",
       "    </tr>\n",
       "    <tr>\n",
       "      <th>3</th>\n",
       "      <td>anything_else</td>\n",
       "      <td>node_2_1487280430136</td>\n",
       "      <td>NaN</td>\n",
       "      <td>True</td>\n",
       "    </tr>\n",
       "  </tbody>\n",
       "</table>\n",
       "</div>"
      ],
      "text/plain": [
       "                     Condition               Node ID Node Name Valid\n",
       "0                         true  node_1_1467910920863       NaN  True\n",
       "1                         true  node_1_1467919680248       NaN  True\n",
       "2  #out_of_scope || #off_topic  node_1_1467743415843       NaN  True\n",
       "3                anything_else  node_2_1487280430136       NaN  True"
      ]
     },
     "execution_count": 11,
     "metadata": {},
     "output_type": "execute_result"
    }
   ],
   "source": [
    "#Specify the confidence threhold you want to look for in the logs\n",
    "confidence_threshold = .20\n",
    "\n",
    "# Add coverage node ids, if any, to list\n",
    "node_ids = ['node_1_1467910920863', 'node_1_1467919680248']\n",
    "\n",
    "# Add coverage node names, if any, to list\n",
    "node_names = []\n",
    "\n",
    "# Add coverage node conditions, if any, to list\n",
    "node_conditions = ['#out_of_scope || #off_topic', 'anything_else']\n",
    "\n",
    "# Check if the dialog nodes are present in assistant definition\n",
    "df_coverage_nodes = chk_is_valid_node(node_ids, node_names, node_conditions, assistant_nodes)\n",
    "df_coverage_nodes"
   ]
  },
  {
   "cell_type": "markdown",
   "metadata": {},
   "source": [
    "### <a id=\"set_effectiveness\"></a> 3.2 Customize effectiveness\n",
    "\n",
    "Effectiveness measures your Watson Assistant system at the conversation level. You may include automated metrics that help identify problematic conversations. Example metrics include:\n",
    "\n",
    "- Escalations to live agent: conversations escalated to a human agent for quality reasons.\n",
    "- Poor NPS: conversations that received a poor NPS (Net Promoter Score), or other explicit user feedback.\n",
    "- Task not completed: conversations failed to complete the task the user was attempting.\n",
    "- Implicit feedback: conversations containing implicit feedback that suggests failure, such as links provided not being clicked. \n",
    "\n",
    "Below we provide example code for identifying escalation based on intents and dialog information."
   ]
  },
  {
   "cell_type": "markdown",
   "metadata": {},
   "source": [
    "#### <a id=\"set_escalation_intent\"></a> 3.2.1 Specify intents to identify escalations\n",
    "If you have specific intents that point to escalation or any other effectiveness measure, specify those in `chk_effective_intents` lists below. <br>\n",
    "**Note:** If you don't have specific intents to capture effectiveness, leave chk_effective_intents list empty."
   ]
  },
  {
   "cell_type": "code",
   "execution_count": 12,
   "metadata": {},
   "outputs": [
    {
     "data": {
      "text/html": [
       "<div>\n",
       "<style scoped>\n",
       "    .dataframe tbody tr th:only-of-type {\n",
       "        vertical-align: middle;\n",
       "    }\n",
       "\n",
       "    .dataframe tbody tr th {\n",
       "        vertical-align: top;\n",
       "    }\n",
       "\n",
       "    .dataframe thead th {\n",
       "        text-align: right;\n",
       "    }\n",
       "</style>\n",
       "<table border=\"1\" class=\"dataframe\">\n",
       "  <thead>\n",
       "    <tr style=\"text-align: right;\">\n",
       "      <th></th>\n",
       "      <th>Intent</th>\n",
       "      <th>Valid</th>\n",
       "      <th>Count</th>\n",
       "    </tr>\n",
       "  </thead>\n",
       "  <tbody>\n",
       "    <tr>\n",
       "      <th>0</th>\n",
       "      <td>connect_to_agent</td>\n",
       "      <td>True</td>\n",
       "      <td>73</td>\n",
       "    </tr>\n",
       "  </tbody>\n",
       "</table>\n",
       "</div>"
      ],
      "text/plain": [
       "             Intent  Valid  Count\n",
       "0  connect_to_agent   True     73"
      ]
     },
     "execution_count": 12,
     "metadata": {},
     "output_type": "execute_result"
    }
   ],
   "source": [
    "# Add your escalation intents to the list\n",
    "chk_effective_intents=['connect_to_agent']\n",
    "\n",
    "# Store the intents in a dataframe\n",
    "df_chk_effective_intents = pd.DataFrame(chk_effective_intents, columns = ['Intent'])\n",
    "\n",
    "# Add a 'valid' flag to the dataframe\n",
    "df_chk_effective_intents['Valid']= True\n",
    "\n",
    "# Add count column for selected intents\n",
    "df_chk_effective_intents['Count']= 0\n",
    "\n",
    "# Checking the validity of the specified intents. Look out for the `valid` column in the table displayed below.\n",
    "for intent in chk_effective_intents:\n",
    "    # Check if intent is present in assistant definition\n",
    "    if intent not in assistant_intents:\n",
    "        # If not present, mark it as 'not valid'\n",
    "        df_chk_effective_intents.loc[df_chk_effective_intents['Intent']==intent,['Valid']] = False\n",
    "        # Remove intent from the chk_effective_intents list \n",
    "        chk_effective_intents.remove(intent)\n",
    "    else:\n",
    "        # Calculate number of times each intent is hit\n",
    "        count = df_formated.loc[df_formated['response.top_intent_intent']==intent]['log_id'].nunique()\n",
    "        df_chk_effective_intents.loc[df_chk_effective_intents['Intent']==intent,['Count']] = count\n",
    "# Display intents and validity\n",
    "df_chk_effective_intents"
   ]
  },
  {
   "cell_type": "markdown",
   "metadata": {},
   "source": [
    "#### <a id=\"set_escalation_dialog\"></a> 3.2.2 Specify  dialog nodes to identify escalations\n",
    "If you have specific dialog nodes that point to escalation or any other effectiveness measure, you can automated capture them based on three variables: node id, node name, and node condition.\n",
    "\n",
    "- Use the node_ids list to include the identifiers of any dialog nodes you've used to model that a message indicates an escalation.  \n",
    "- Similarly, use the node_names list to include dialog nodes.\n",
    "- Use node_conditions for dialog conditions that indicate a message is out of scope.\n",
    "\n",
    "Note that these lists are treated as \"OR\" conditions - any occurrence of any of them will signify that a message is not covered. \n",
    "\n",
    "__Where to find node id, node name, and node condition__?\n",
    "\n",
    "You can find the values of these variables from your assistant definition JSON file based on following mappings.\n",
    "\n",
    "- node id: `dialog_node`\n",
    "- node name: `title`\n",
    "- node condition: `conditions`\n",
    "\n",
    "You can also find node name, and node condition in your dialog editor. For more information, see [Dialog Nodes](https://cloud.ibm.com/docs/services/assistant?topic=assistant-dialog-overview#dialog-overview-nodes).\n",
    "\n",
    "**Note:** If your assistant does not incorporate escalations and you do not have any other automated conversation-level quality metrics to identify problematic conversations (e.g., poor NPS, task not completed), you can simply track coverage and average confidence over a recent sample of your entire production logs. Leave an empty list for node_ids, node_names and node_conditions.  "
   ]
  },
  {
   "cell_type": "code",
   "execution_count": 13,
   "metadata": {},
   "outputs": [
    {
     "data": {
      "text/html": [
       "<div>\n",
       "<style scoped>\n",
       "    .dataframe tbody tr th:only-of-type {\n",
       "        vertical-align: middle;\n",
       "    }\n",
       "\n",
       "    .dataframe tbody tr th {\n",
       "        vertical-align: top;\n",
       "    }\n",
       "\n",
       "    .dataframe thead th {\n",
       "        text-align: right;\n",
       "    }\n",
       "</style>\n",
       "<table border=\"1\" class=\"dataframe\">\n",
       "  <thead>\n",
       "    <tr style=\"text-align: right;\">\n",
       "      <th></th>\n",
       "      <th>Condition</th>\n",
       "      <th>Node ID</th>\n",
       "      <th>Node Name</th>\n",
       "      <th>Valid</th>\n",
       "    </tr>\n",
       "  </thead>\n",
       "  <tbody>\n",
       "    <tr>\n",
       "      <th>0</th>\n",
       "      <td>#connect_to_agent</td>\n",
       "      <td>node_2_1537212368188</td>\n",
       "      <td>NaN</td>\n",
       "      <td>True</td>\n",
       "    </tr>\n",
       "    <tr>\n",
       "      <th>1</th>\n",
       "      <td>#answer_not_helpful</td>\n",
       "      <td>node_1_1537212185418</td>\n",
       "      <td>NaN</td>\n",
       "      <td>True</td>\n",
       "    </tr>\n",
       "    <tr>\n",
       "      <th>2</th>\n",
       "      <td>#not_trained</td>\n",
       "      <td>node_1_1537297843450</td>\n",
       "      <td>not_trained</td>\n",
       "      <td>True</td>\n",
       "    </tr>\n",
       "  </tbody>\n",
       "</table>\n",
       "</div>"
      ],
      "text/plain": [
       "             Condition               Node ID    Node Name Valid\n",
       "0    #connect_to_agent  node_2_1537212368188          NaN  True\n",
       "1  #answer_not_helpful  node_1_1537212185418          NaN  True\n",
       "2         #not_trained  node_1_1537297843450  not_trained  True"
      ]
     },
     "execution_count": 13,
     "metadata": {},
     "output_type": "execute_result"
    }
   ],
   "source": [
    "# Add effectiveness node ids, if any, to list\n",
    "node_ids = []\n",
    "\n",
    "# Add effectiveness node names, if any, to list\n",
    "node_names = ['not_trained']\n",
    "\n",
    "# Add effectiveness node conditions, if any, to list\n",
    "node_conditions = ['#connect_to_agent', '#answer_not_helpful']\n",
    "\n",
    "# If your assistant does not incorporate escalations and you do not have any other automated conversation-level quality metrics, uncomment lines below \n",
    "# node_ids = [] \n",
    "# node_names = [] \n",
    "# node_conditions = [] \n",
    "\n",
    "# Check if the dialog nodes are present in assistant definition\n",
    "df_chk_effective_nodes = chk_is_valid_node(node_ids, node_names, node_conditions, assistant_nodes)\n",
    "df_chk_effective_nodes"
   ]
  },
  {
   "cell_type": "markdown",
   "metadata": {},
   "source": [
    "## 4. Calculate overall coverage and effectiveness<a id=\"overall\"></a>\n",
    "The combination of effectiveness and coverage is very powerful for diagnostics.\n",
    "If your effectiveness and coverage metrics are high, it means that your assistant is responding to most inquiries and responding well. If either effectiveness or coverage are low, the metrics provide you with the information you need to start improving your assistant. "
   ]
  },
  {
   "cell_type": "markdown",
   "metadata": {},
   "source": [
    "###  4.1 Calculate overall metrics<a id=\"overall1\"></a>"
   ]
  },
  {
   "cell_type": "code",
   "execution_count": 14,
   "metadata": {},
   "outputs": [],
   "source": [
    "df_formated_copy = df_formated.copy(deep = True)\n",
    "\n",
    "# Mark if a message is covered and store results in df_coverage dataframe\n",
    "df_coverage = get_coverage_df(df_formated_copy , df_coverage_nodes, confidence_threshold)\n",
    "\n",
    "# Mark if a conversation is effective and store results in df_coverage dataframe\n",
    "# Set filter_non_intent_node to True to filter out utterances whose last visited node does not contain any intents\n",
    "df_effective = get_effective_df(df_formated_copy, chk_effective_intents, df_chk_effective_nodes, filter_non_intent_node=False, assistant_nodes=assistant_nodes)\n",
    "\n",
    "# Calculate average confidence\n",
    "avg_conf = float(\"{0:.2f}\".format(df_coverage[df_coverage['Covered']==True]['response.top_intent_confidence'].mean()*100))\n",
    "\n",
    "# Calculate coverage\n",
    "coverage = float(\"{0:.2f}\".format((df_coverage['Covered'].value_counts().to_frame()['Covered'][True]/df_coverage['Covered'].value_counts().sum())*100))\n",
    "\n",
    "# Calculate effectiveness\n",
    "effective_perc = float(\"{0:.2f}\".format((df_effective.loc[df_effective['Escalated_conversation']==False]['response.context.conversation_id'].nunique()/df_effective['response.context.conversation_id'].nunique())*100))              "
   ]
  },
  {
   "cell_type": "markdown",
   "metadata": {},
   "source": [
    "###  4.2 Display overall results<a id=\"overall2\"></a>"
   ]
  },
  {
   "cell_type": "code",
   "execution_count": 15,
   "metadata": {},
   "outputs": [
    {
     "data": {
      "text/html": [
       "<tr><th colspan=\"4\"><div align=\"center\"><h2>Coverage and Effectiveness<hr/></h2></div></th></tr><tr>    <td style=\"width:500px\"><img class=\"colimg\" src='data:image/png;base64,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'></td>    <td style=\"width:450px\"><div align=\"left\"> <h2>Coverage</h2></br>A message that is not covered would either be a message your assistant responded to with some form of “I’m not trained” or that it immediately handed over to a human agent without attempting to respond </div></td>    <td style=\"width:500px\"><img class=\"colimg\" src='data:image/png;base64,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'></td>    <td style=\"width:450px\"><div align=\"left\"> <h2>Effectiveness</h2></br>This notebook provides a list of metrics customers can use to assess how effective their assistant is at responding to conversation and metrics   </div></td></tr>"
      ],
      "text/plain": [
       "<IPython.core.display.HTML object>"
      ]
     },
     "execution_count": 15,
     "metadata": {},
     "output_type": "execute_result"
    }
   ],
   "source": [
    "# Plot pie graphs for coverage and effectiveness\n",
    "coverage_pie = make_pie(coverage, \"Percent of total messages covered\")\n",
    "effective_pie = make_pie(effective_perc, 'Percent of non-escalated conversations')\n",
    "\n",
    "# Messages to be displayed with effectiveness and coverage\n",
    "coverage_msg = '<h2>Coverage</h2></br>A message that is not covered would either be a \\\n",
    "message your assistant responded to with some form \\\n",
    "of “I’m not trained” or that it immediately handed over \\\n",
    "to a human agent without attempting to respond'\n",
    "\n",
    "effectiveness_msg = '<h2>Effectiveness</h2></br>This notebook provides a list of metrics customers \\\n",
    "can use to assess how effective their assistant is at \\\n",
    "responding to conversation and metrics '\n",
    "\n",
    "# Display the coverage and effectiveness pie charts\n",
    "HTML('<tr><th colspan=\"4\"><div align=\"center\"><h2>Coverage and Effectiveness<hr/></h2></div></th></tr>\\\n",
    "<tr>\\\n",
    "    <td style=\"width:500px\">{c_pie}</td>\\\n",
    "    <td style=\"width:450px\"><div align=\"left\"> {c_msg} </div></td>\\\n",
    "    <td style=\"width:500px\">{e_pie}</td>\\\n",
    "    <td style=\"width:450px\"><div align=\"left\"> {e_msg}  </div></td>\\\n",
    "</tr>'\n",
    "    .format(c_pie=coverage_pie, c_msg = coverage_msg, e_pie = effective_pie, e_msg = effectiveness_msg))"
   ]
  },
  {
   "cell_type": "markdown",
   "metadata": {},
   "source": [
    "Here, we can see our assistant's coverage and effectiveness. We will have to take a deeper look at both of these metrics to understand the nuances and decide where we should focus next. \n",
    "\n",
    "Note that the distinction between a user message and a conversation. A conversation in Watson Assistant represents a session of one or more messages from a user and the associated responses returned to the user from the assistant. A conversation includes a Conversation id for the purposes of grouping a sequence of messages and responses. "
   ]
  },
  {
   "cell_type": "markdown",
   "metadata": {},
   "source": [
    "<a id=\"msg_analysis\"></a>\n",
    "## 5.  Analyze coverage\n",
    "\n",
    "Now, we take a deeper look at the Coverage of your Assistant."
   ]
  },
  {
   "cell_type": "markdown",
   "metadata": {},
   "source": [
    "###  5.1 Display overall coverage<a id=\"msg_analysis1\"></a>"
   ]
  },
  {
   "cell_type": "code",
   "execution_count": 16,
   "metadata": {},
   "outputs": [
    {
     "name": "stdout",
     "output_type": "stream",
     "text": [
      "Overall messages\n",
      "================\n",
      "Total Conversations: 4319\n",
      "Total Messages: 7706\n",
      "\n",
      "\n"
     ]
    },
    {
     "data": {
      "image/png": "[encoded data removed]",
      "text/plain": [
       "<Figure size 1080x108 with 1 Axes>"
      ]
     },
     "metadata": {},
     "output_type": "display_data"
    }
   ],
   "source": [
    "# Compute the number of conversations in the log\n",
    "convs = df_coverage['response.context.conversation_id'].nunique()\n",
    "\n",
    "# Compute the number of messages in the log\n",
    "msgs = df_coverage['response.context.conversation_id'].size\n",
    "\n",
    "#Display the results\n",
    "print('Overall messages\\n', \"=\" * len('Overall messages'), '\\nTotal Conversations: ', convs, '\\nTotal Messages: ', msgs, '\\n\\n', sep = '')\n",
    "\n",
    "#Display the coverage bar chart\n",
    "display(coverage_barh(coverage, avg_conf, 'Coverage & Average confidence', False))"
   ]
  },
  {
   "cell_type": "markdown",
   "metadata": {},
   "source": [
    "###  5.2 Calculate coverage over time<a id=\"msg_analysis2\"></a>\n",
    "\n",
    "Compare the coverage over time with any major updates to your assistant, to see if the changes affected the performance. Use the interval parameter to set a time interval.  You can choose from:  {\"minute\", \"5-minute\", \"15-minute\", \"30-minute\", \"hour\", \"day\", \"week\", \"month\"}. Move your cursor over the bars to check the coverage value."
   ]
  },
  {
   "cell_type": "code",
   "execution_count": 17,
   "metadata": {},
   "outputs": [
    {
     "data": {
      "application/javascript": [
       "\n",
       "(function(root) {\n",
       "  function now() {\n",
       "    return new Date();\n",
       "  }\n",
       "\n",
       "  var force = true;\n",
       "\n",
       "  if (typeof root._bokeh_onload_callbacks === \"undefined\" || force === true) {\n",
       "    root._bokeh_onload_callbacks = [];\n",
       "    root._bokeh_is_loading = undefined;\n",
       "  }\n",
       "\n",
       "  var JS_MIME_TYPE = 'application/javascript';\n",
       "  var HTML_MIME_TYPE = 'text/html';\n",
       "  var EXEC_MIME_TYPE = 'application/vnd.bokehjs_exec.v0+json';\n",
       "  var CLASS_NAME = 'output_bokeh rendered_html';\n",
       "\n",
       "  /**\n",
       "   * Render data to the DOM node\n",
       "   */\n",
       "  function render(props, node) {\n",
       "    var script = document.createElement(\"script\");\n",
       "    node.appendChild(script);\n",
       "  }\n",
       "\n",
       "  /**\n",
       "   * Handle when an output is cleared or removed\n",
       "   */\n",
       "  function handleClearOutput(event, handle) {\n",
       "    var cell = handle.cell;\n",
       "\n",
       "    var id = cell.output_area._bokeh_element_id;\n",
       "    var server_id = cell.output_area._bokeh_server_id;\n",
       "    // Clean up Bokeh references\n",
       "    if (id != null && id in Bokeh.index) {\n",
       "      Bokeh.index[id].model.document.clear();\n",
       "      delete Bokeh.index[id];\n",
       "    }\n",
       "\n",
       "    if (server_id !== undefined) {\n",
       "      // Clean up Bokeh references\n",
       "      var cmd = \"from bokeh.io.state import curstate; print(curstate().uuid_to_server['\" + server_id + \"'].get_sessions()[0].document.roots[0]._id)\";\n",
       "      cell.notebook.kernel.execute(cmd, {\n",
       "        iopub: {\n",
       "          output: function(msg) {\n",
       "            var id = msg.content.text.trim();\n",
       "            if (id in Bokeh.index) {\n",
       "              Bokeh.index[id].model.document.clear();\n",
       "              delete Bokeh.index[id];\n",
       "            }\n",
       "          }\n",
       "        }\n",
       "      });\n",
       "      // Destroy server and session\n",
       "      var cmd = \"import bokeh.io.notebook as ion; ion.destroy_server('\" + server_id + \"')\";\n",
       "      cell.notebook.kernel.execute(cmd);\n",
       "    }\n",
       "  }\n",
       "\n",
       "  /**\n",
       "   * Handle when a new output is added\n",
       "   */\n",
       "  function handleAddOutput(event, handle) {\n",
       "    var output_area = handle.output_area;\n",
       "    var output = handle.output;\n",
       "\n",
       "    // limit handleAddOutput to display_data with EXEC_MIME_TYPE content only\n",
       "    if ((output.output_type != \"display_data\") || (!output.data.hasOwnProperty(EXEC_MIME_TYPE))) {\n",
       "      return\n",
       "    }\n",
       "\n",
       "    var toinsert = output_area.element.find(\".\" + CLASS_NAME.split(' ')[0]);\n",
       "\n",
       "    if (output.metadata[EXEC_MIME_TYPE][\"id\"] !== undefined) {\n",
       "      toinsert[toinsert.length - 1].firstChild.textContent = output.data[JS_MIME_TYPE];\n",
       "      // store reference to embed id on output_area\n",
       "      output_area._bokeh_element_id = output.metadata[EXEC_MIME_TYPE][\"id\"];\n",
       "    }\n",
       "    if (output.metadata[EXEC_MIME_TYPE][\"server_id\"] !== undefined) {\n",
       "      var bk_div = document.createElement(\"div\");\n",
       "      bk_div.innerHTML = output.data[HTML_MIME_TYPE];\n",
       "      var script_attrs = bk_div.children[0].attributes;\n",
       "      for (var i = 0; i < script_attrs.length; i++) {\n",
       "        toinsert[toinsert.length - 1].firstChild.setAttribute(script_attrs[i].name, script_attrs[i].value);\n",
       "        toinsert[toinsert.length - 1].firstChild.textContent = bk_div.children[0].textContent\n",
       "      }\n",
       "      // store reference to server id on output_area\n",
       "      output_area._bokeh_server_id = output.metadata[EXEC_MIME_TYPE][\"server_id\"];\n",
       "    }\n",
       "  }\n",
       "\n",
       "  function register_renderer(events, OutputArea) {\n",
       "\n",
       "    function append_mime(data, metadata, element) {\n",
       "      // create a DOM node to render to\n",
       "      var toinsert = this.create_output_subarea(\n",
       "        metadata,\n",
       "        CLASS_NAME,\n",
       "        EXEC_MIME_TYPE\n",
       "      );\n",
       "      this.keyboard_manager.register_events(toinsert);\n",
       "      // Render to node\n",
       "      var props = {data: data, metadata: metadata[EXEC_MIME_TYPE]};\n",
       "      render(props, toinsert[toinsert.length - 1]);\n",
       "      element.append(toinsert);\n",
       "      return toinsert\n",
       "    }\n",
       "\n",
       "    /* Handle when an output is cleared or removed */\n",
       "    events.on('clear_output.CodeCell', handleClearOutput);\n",
       "    events.on('delete.Cell', handleClearOutput);\n",
       "\n",
       "    /* Handle when a new output is added */\n",
       "    events.on('output_added.OutputArea', handleAddOutput);\n",
       "\n",
       "    /**\n",
       "     * Register the mime type and append_mime function with output_area\n",
       "     */\n",
       "    OutputArea.prototype.register_mime_type(EXEC_MIME_TYPE, append_mime, {\n",
       "      /* Is output safe? */\n",
       "      safe: true,\n",
       "      /* Index of renderer in `output_area.display_order` */\n",
       "      index: 0\n",
       "    });\n",
       "  }\n",
       "\n",
       "  // register the mime type if in Jupyter Notebook environment and previously unregistered\n",
       "  if (root.Jupyter !== undefined) {\n",
       "    var events = require('base/js/events');\n",
       "    var OutputArea = require('notebook/js/outputarea').OutputArea;\n",
       "\n",
       "    if (OutputArea.prototype.mime_types().indexOf(EXEC_MIME_TYPE) == -1) {\n",
       "      register_renderer(events, OutputArea);\n",
       "    }\n",
       "  }\n",
       "\n",
       "  \n",
       "  if (typeof (root._bokeh_timeout) === \"undefined\" || force === true) {\n",
       "    root._bokeh_timeout = Date.now() + 5000;\n",
       "    root._bokeh_failed_load = false;\n",
       "  }\n",
       "\n",
       "  var NB_LOAD_WARNING = {'data': {'text/html':\n",
       "     \"<div style='background-color: #fdd'>\\n\"+\n",
       "     \"<p>\\n\"+\n",
       "     \"BokehJS does not appear to have successfully loaded. If loading BokehJS from CDN, this \\n\"+\n",
       "     \"may be due to a slow or bad network connection. Possible fixes:\\n\"+\n",
       "     \"</p>\\n\"+\n",
       "     \"<ul>\\n\"+\n",
       "     \"<li>re-rerun `output_notebook()` to attempt to load from CDN again, or</li>\\n\"+\n",
       "     \"<li>use INLINE resources instead, as so:</li>\\n\"+\n",
       "     \"</ul>\\n\"+\n",
       "     \"<code>\\n\"+\n",
       "     \"from bokeh.resources import INLINE\\n\"+\n",
       "     \"output_notebook(resources=INLINE)\\n\"+\n",
       "     \"</code>\\n\"+\n",
       "     \"</div>\"}};\n",
       "\n",
       "  function display_loaded() {\n",
       "    var el = document.getElementById(null);\n",
       "    if (el != null) {\n",
       "      el.textContent = \"BokehJS is loading...\";\n",
       "    }\n",
       "    if (root.Bokeh !== undefined) {\n",
       "      if (el != null) {\n",
       "        el.textContent = \"BokehJS \" + root.Bokeh.version + \" successfully loaded.\";\n",
       "      }\n",
       "    } else if (Date.now() < root._bokeh_timeout) {\n",
       "      setTimeout(display_loaded, 100)\n",
       "    }\n",
       "  }\n",
       "\n",
       "\n",
       "  function run_callbacks() {\n",
       "    try {\n",
       "      root._bokeh_onload_callbacks.forEach(function(callback) {\n",
       "        if (callback != null)\n",
       "          callback();\n",
       "      });\n",
       "    } finally {\n",
       "      delete root._bokeh_onload_callbacks\n",
       "    }\n",
       "    console.debug(\"Bokeh: all callbacks have finished\");\n",
       "  }\n",
       "\n",
       "  function load_libs(css_urls, js_urls, callback) {\n",
       "    if (css_urls == null) css_urls = [];\n",
       "    if (js_urls == null) js_urls = [];\n",
       "\n",
       "    root._bokeh_onload_callbacks.push(callback);\n",
       "    if (root._bokeh_is_loading > 0) {\n",
       "      console.debug(\"Bokeh: BokehJS is being loaded, scheduling callback at\", now());\n",
       "      return null;\n",
       "    }\n",
       "    if (js_urls == null || js_urls.length === 0) {\n",
       "      run_callbacks();\n",
       "      return null;\n",
       "    }\n",
       "    console.debug(\"Bokeh: BokehJS not loaded, scheduling load and callback at\", now());\n",
       "    root._bokeh_is_loading = css_urls.length + js_urls.length;\n",
       "\n",
       "    function on_load() {\n",
       "      root._bokeh_is_loading--;\n",
       "      if (root._bokeh_is_loading === 0) {\n",
       "        console.debug(\"Bokeh: all BokehJS libraries/stylesheets loaded\");\n",
       "        run_callbacks()\n",
       "      }\n",
       "    }\n",
       "\n",
       "    function on_error() {\n",
       "      console.error(\"failed to load \" + url);\n",
       "    }\n",
       "\n",
       "    for (var i = 0; i < css_urls.length; i++) {\n",
       "      var url = css_urls[i];\n",
       "      const element = document.createElement(\"link\");\n",
       "      element.onload = on_load;\n",
       "      element.onerror = on_error;\n",
       "      element.rel = \"stylesheet\";\n",
       "      element.type = \"text/css\";\n",
       "      element.href = url;\n",
       "      console.debug(\"Bokeh: injecting link tag for BokehJS stylesheet: \", url);\n",
       "      document.body.appendChild(element);\n",
       "    }\n",
       "\n",
       "    for (var i = 0; i < js_urls.length; i++) {\n",
       "      var url = js_urls[i];\n",
       "      var element = document.createElement('script');\n",
       "      element.onload = on_load;\n",
       "      element.onerror = on_error;\n",
       "      element.async = false;\n",
       "      element.src = url;\n",
       "      \n",
       "      console.debug(\"Bokeh: injecting script tag for BokehJS library: \", url);\n",
       "      document.head.appendChild(element);\n",
       "    }\n",
       "  };\n",
       "\n",
       "  function inject_raw_css(css) {\n",
       "    const element = document.createElement(\"style\");\n",
       "    element.appendChild(document.createTextNode(css));\n",
       "    document.body.appendChild(element);\n",
       "  }\n",
       "\n",
       "  \n",
       "  var js_urls = [\"https://cdn.bokeh.org/bokeh/release/bokeh-2.0.0.min.js\", \"https://cdn.bokeh.org/bokeh/release/bokeh-widgets-2.0.0.min.js\", \"https://cdn.bokeh.org/bokeh/release/bokeh-tables-2.0.0.min.js\", \"https://cdn.bokeh.org/bokeh/release/bokeh-gl-2.0.0.min.js\"];\n",
       "  var css_urls = [];\n",
       "  \n",
       "\n",
       "  var inline_js = [\n",
       "    function(Bokeh) {\n",
       "      Bokeh.set_log_level(\"info\");\n",
       "    },\n",
       "    function(Bokeh) {\n",
       "    \n",
       "    \n",
       "    }\n",
       "  ];\n",
       "\n",
       "  function run_inline_js() {\n",
       "    \n",
       "    if (root.Bokeh !== undefined || force === true) {\n",
       "      \n",
       "    for (var i = 0; i < inline_js.length; i++) {\n",
       "      inline_js[i].call(root, root.Bokeh);\n",
       "    }\n",
       "    } else if (Date.now() < root._bokeh_timeout) {\n",
       "      setTimeout(run_inline_js, 100);\n",
       "    } else if (!root._bokeh_failed_load) {\n",
       "      console.log(\"Bokeh: BokehJS failed to load within specified timeout.\");\n",
       "      root._bokeh_failed_load = true;\n",
       "    } else if (force !== true) {\n",
       "      var cell = $(document.getElementById(null)).parents('.cell').data().cell;\n",
       "      cell.output_area.append_execute_result(NB_LOAD_WARNING)\n",
       "    }\n",
       "\n",
       "  }\n",
       "\n",
       "  if (root._bokeh_is_loading === 0) {\n",
       "    console.debug(\"Bokeh: BokehJS loaded, going straight to plotting\");\n",
       "    run_inline_js();\n",
       "  } else {\n",
       "    load_libs(css_urls, js_urls, function() {\n",
       "      console.debug(\"Bokeh: BokehJS plotting callback run at\", now());\n",
       "      run_inline_js();\n",
       "    });\n",
       "  }\n",
       "}(window));"
      ],
      "application/vnd.bokehjs_load.v0+json": "\n(function(root) {\n  function now() {\n    return new Date();\n  }\n\n  var force = true;\n\n  if (typeof root._bokeh_onload_callbacks === \"undefined\" || force === true) {\n    root._bokeh_onload_callbacks = [];\n    root._bokeh_is_loading = undefined;\n  }\n\n  \n\n  \n  if (typeof (root._bokeh_timeout) === \"undefined\" || force === true) {\n    root._bokeh_timeout = Date.now() + 5000;\n    root._bokeh_failed_load = false;\n  }\n\n  var NB_LOAD_WARNING = {'data': {'text/html':\n     \"<div style='background-color: #fdd'>\\n\"+\n     \"<p>\\n\"+\n     \"BokehJS does not appear to have successfully loaded. If loading BokehJS from CDN, this \\n\"+\n     \"may be due to a slow or bad network connection. Possible fixes:\\n\"+\n     \"</p>\\n\"+\n     \"<ul>\\n\"+\n     \"<li>re-rerun `output_notebook()` to attempt to load from CDN again, or</li>\\n\"+\n     \"<li>use INLINE resources instead, as so:</li>\\n\"+\n     \"</ul>\\n\"+\n     \"<code>\\n\"+\n     \"from bokeh.resources import INLINE\\n\"+\n     \"output_notebook(resources=INLINE)\\n\"+\n     \"</code>\\n\"+\n     \"</div>\"}};\n\n  function display_loaded() {\n    var el = document.getElementById(null);\n    if (el != null) {\n      el.textContent = \"BokehJS is loading...\";\n    }\n    if (root.Bokeh !== undefined) {\n      if (el != null) {\n        el.textContent = \"BokehJS \" + root.Bokeh.version + \" successfully loaded.\";\n      }\n    } else if (Date.now() < root._bokeh_timeout) {\n      setTimeout(display_loaded, 100)\n    }\n  }\n\n\n  function run_callbacks() {\n    try {\n      root._bokeh_onload_callbacks.forEach(function(callback) {\n        if (callback != null)\n          callback();\n      });\n    } finally {\n      delete root._bokeh_onload_callbacks\n    }\n    console.debug(\"Bokeh: all callbacks have finished\");\n  }\n\n  function load_libs(css_urls, js_urls, callback) {\n    if (css_urls == null) css_urls = [];\n    if (js_urls == null) js_urls = [];\n\n    root._bokeh_onload_callbacks.push(callback);\n    if (root._bokeh_is_loading > 0) {\n      console.debug(\"Bokeh: BokehJS is being loaded, scheduling callback at\", now());\n      return null;\n    }\n    if (js_urls == null || js_urls.length === 0) {\n      run_callbacks();\n      return null;\n    }\n    console.debug(\"Bokeh: BokehJS not loaded, scheduling load and callback at\", now());\n    root._bokeh_is_loading = css_urls.length + js_urls.length;\n\n    function on_load() {\n      root._bokeh_is_loading--;\n      if (root._bokeh_is_loading === 0) {\n        console.debug(\"Bokeh: all BokehJS libraries/stylesheets loaded\");\n        run_callbacks()\n      }\n    }\n\n    function on_error() {\n      console.error(\"failed to load \" + url);\n    }\n\n    for (var i = 0; i < css_urls.length; i++) {\n      var url = css_urls[i];\n      const element = document.createElement(\"link\");\n      element.onload = on_load;\n      element.onerror = on_error;\n      element.rel = \"stylesheet\";\n      element.type = \"text/css\";\n      element.href = url;\n      console.debug(\"Bokeh: injecting link tag for BokehJS stylesheet: \", url);\n      document.body.appendChild(element);\n    }\n\n    for (var i = 0; i < js_urls.length; i++) {\n      var url = js_urls[i];\n      var element = document.createElement('script');\n      element.onload = on_load;\n      element.onerror = on_error;\n      element.async = false;\n      element.src = url;\n      \n      console.debug(\"Bokeh: injecting script tag for BokehJS library: \", url);\n      document.head.appendChild(element);\n    }\n  };\n\n  function inject_raw_css(css) {\n    const element = document.createElement(\"style\");\n    element.appendChild(document.createTextNode(css));\n    document.body.appendChild(element);\n  }\n\n  \n  var js_urls = [\"https://cdn.bokeh.org/bokeh/release/bokeh-2.0.0.min.js\", \"https://cdn.bokeh.org/bokeh/release/bokeh-widgets-2.0.0.min.js\", \"https://cdn.bokeh.org/bokeh/release/bokeh-tables-2.0.0.min.js\", \"https://cdn.bokeh.org/bokeh/release/bokeh-gl-2.0.0.min.js\"];\n  var css_urls = [];\n  \n\n  var inline_js = [\n    function(Bokeh) {\n      Bokeh.set_log_level(\"info\");\n    },\n    function(Bokeh) {\n    \n    \n    }\n  ];\n\n  function run_inline_js() {\n    \n    if (root.Bokeh !== undefined || force === true) {\n      \n    for (var i = 0; i < inline_js.length; i++) {\n      inline_js[i].call(root, root.Bokeh);\n    }\n    } else if (Date.now() < root._bokeh_timeout) {\n      setTimeout(run_inline_js, 100);\n    } else if (!root._bokeh_failed_load) {\n      console.log(\"Bokeh: BokehJS failed to load within specified timeout.\");\n      root._bokeh_failed_load = true;\n    } else if (force !== true) {\n      var cell = $(document.getElementById(null)).parents('.cell').data().cell;\n      cell.output_area.append_execute_result(NB_LOAD_WARNING)\n    }\n\n  }\n\n  if (root._bokeh_is_loading === 0) {\n    console.debug(\"Bokeh: BokehJS loaded, going straight to plotting\");\n    run_inline_js();\n  } else {\n    load_libs(css_urls, js_urls, function() {\n      console.debug(\"Bokeh: BokehJS plotting callback run at\", now());\n      run_inline_js();\n    });\n  }\n}(window));"
     },
     "metadata": {},
     "output_type": "display_data"
    },
    {
     "data": {
      "text/html": [
       "\n",
       "\n",
       "\n",
       "\n",
       "\n",
       "\n",
       "  <div class=\"bk-root\" id=\"1bbdc1c8-fac3-40f7-b68a-d289b7ef0223\" data-root-id=\"1001\"></div>\n"
      ]
     },
     "metadata": {},
     "output_type": "display_data"
    },
    {
     "data": {
      "application/javascript": [
       "(function(root) {\n",
       "  function embed_document(root) {\n",
       "    \n",
       "  var docs_json = {\"3f9a2f7b-0ea2-45ba-9ff1-5c1d0e0c6d7c\":{\"roots\":{\"references\":[{\"attributes\":{\"below\":[{\"id\":\"1012\"}],\"center\":[{\"id\":\"1015\"},{\"id\":\"1019\"}],\"left\":[{\"id\":\"1016\"}],\"plot_height\":350,\"plot_width\":950,\"renderers\":[{\"id\":\"1037\"}],\"title\":{\"id\":\"1002\"},\"toolbar\":{\"id\":\"1026\"},\"x_range\":{\"id\":\"1004\"},\"x_scale\":{\"id\":\"1008\"},\"y_range\":{\"id\":\"1006\"},\"y_scale\":{\"id\":\"1010\"}},\"id\":\"1001\",\"subtype\":\"Figure\",\"type\":\"Plot\"},{\"attributes\":{\"end\":1537315200000.0,\"start\":1537142400000.0},\"id\":\"1004\",\"type\":\"Range1d\"},{\"attributes\":{},\"id\":\"1044\",\"type\":\"BasicTickFormatter\"},{\"attributes\":{},\"id\":\"1047\",\"type\":\"Selection\"},{\"attributes\":{},\"id\":\"1048\",\"type\":\"UnionRenderers\"},{\"attributes\":{\"end\":100.0,\"start\":72.0},\"id\":\"1006\",\"type\":\"Range1d\"},{\"attributes\":{\"num_minor_ticks\":5,\"tickers\":[{\"id\":\"1049\"},{\"id\":\"1050\"},{\"id\":\"1051\"},{\"id\":\"1052\"},{\"id\":\"1053\"},{\"id\":\"1054\"},{\"id\":\"1055\"},{\"id\":\"1056\"},{\"id\":\"1057\"},{\"id\":\"1058\"},{\"id\":\"1059\"},{\"id\":\"1060\"}]},\"id\":\"1013\",\"type\":\"DatetimeTicker\"},{\"attributes\":{\"align\":\"center\",\"text\":\"Coverage over time\",\"text_font_size\":{\"value\":\"12pt\"}},\"id\":\"1002\",\"type\":\"Title\"},{\"attributes\":{\"active_drag\":\"auto\",\"active_inspect\":\"auto\",\"active_multi\":null,\"active_scroll\":\"auto\",\"active_tap\":\"auto\",\"tools\":[{\"id\":\"1020\"},{\"id\":\"1021\"},{\"id\":\"1022\"},{\"id\":\"1023\"},{\"id\":\"1024\"},{\"id\":\"1025\"},{\"id\":\"1041\"}]},\"id\":\"1026\",\"type\":\"Toolbar\"},{\"attributes\":{\"mantissas\":[1,2,5],\"max_interval\":500.0,\"num_minor_ticks\":0},\"id\":\"1049\",\"type\":\"AdaptiveTicker\"},{\"attributes\":{\"days\":[\"%Y-%m-%d %H:%M:%S\"],\"hourmin\":[\"%Y-%m-%d %H:%M:%S\"],\"hours\":[\"%Y-%m-%d %H:%M:%S\"],\"minsec\":[\"%Y-%m-%d %H:%M:%S\"],\"minutes\":[\"%Y-%m-%d %H:%M:%S\"],\"months\":[\"%Y-%m-%d %H:%M:%S\"],\"seconds\":[\"%Y-%m-%d %H:%M:%S\"],\"years\":[\"%Y-%m-%d %H:%M:%S\"]},\"id\":\"1039\",\"type\":\"DatetimeTickFormatter\"},{\"attributes\":{\"base\":60,\"mantissas\":[1,2,5,10,15,20,30],\"max_interval\":1800000.0,\"min_interval\":1000.0,\"num_minor_ticks\":0},\"id\":\"1050\",\"type\":\"AdaptiveTicker\"},{\"attributes\":{\"formatter\":{\"id\":\"1039\"},\"major_label_orientation\":0.5,\"major_label_text_font_size\":\"10pt\",\"ticker\":{\"id\":\"1013\"}},\"id\":\"1012\",\"type\":\"DatetimeAxis\"},{\"attributes\":{\"base\":24,\"mantissas\":[1,2,4,6,8,12],\"max_interval\":43200000.0,\"min_interval\":3600000.0,\"num_minor_ticks\":0},\"id\":\"1051\",\"type\":\"AdaptiveTicker\"},{\"attributes\":{},\"id\":\"1020\",\"type\":\"PanTool\"},{\"attributes\":{\"days\":[1,2,3,4,5,6,7,8,9,10,11,12,13,14,15,16,17,18,19,20,21,22,23,24,25,26,27,28,29,30,31]},\"id\":\"1052\",\"type\":\"DaysTicker\"},{\"attributes\":{},\"id\":\"1021\",\"type\":\"WheelZoomTool\"},{\"attributes\":{\"days\":[1,4,7,10,13,16,19,22,25,28]},\"id\":\"1053\",\"type\":\"DaysTicker\"},{\"attributes\":{\"overlay\":{\"id\":\"1061\"}},\"id\":\"1022\",\"type\":\"BoxZoomTool\"},{\"attributes\":{\"days\":[1,8,15,22]},\"id\":\"1054\",\"type\":\"DaysTicker\"},{\"attributes\":{},\"id\":\"1023\",\"type\":\"SaveTool\"},{\"attributes\":{\"data\":{\"Count\":[2672,2613,1511],\"Coverage\":{\"__ndarray__\":\"CtejcD1KVkDNzMzMzKxWQArXo3A9qlRA\",\"dtype\":\"float64\",\"shape\":[3]},\"Covered\":[true,true,true],\"index\":[0,1,2],\"response_datetime_interval\":{\"__ndarray__\":\"AABAOk1edkIAAACgn152QgAAwAXyXnZC\",\"dtype\":\"float64\",\"shape\":[3]}},\"selected\":{\"id\":\"1047\"},\"selection_policy\":{\"id\":\"1048\"}},\"id\":\"1033\",\"type\":\"ColumnDataSource\"},{\"attributes\":{\"days\":[1,15]},\"id\":\"1055\",\"type\":\"DaysTicker\"},{\"attributes\":{},\"id\":\"1024\",\"type\":\"ResetTool\"},{\"attributes\":{\"months\":[0,1,2,3,4,5,6,7,8,9,10,11]},\"id\":\"1056\",\"type\":\"MonthsTicker\"},{\"attributes\":{},\"id\":\"1025\",\"type\":\"HelpTool\"},{\"attributes\":{\"months\":[0,2,4,6,8,10]},\"id\":\"1057\",\"type\":\"MonthsTicker\"},{\"attributes\":{},\"id\":\"1010\",\"type\":\"LinearScale\"},{\"attributes\":{\"months\":[0,4,8]},\"id\":\"1058\",\"type\":\"MonthsTicker\"},{\"attributes\":{\"line_color\":\"#4fa8f6\",\"line_width\":1.5,\"x\":{\"field\":\"response_datetime_interval\"},\"y\":{\"field\":\"Coverage\"}},\"id\":\"1035\",\"type\":\"Line\"},{\"attributes\":{\"callback\":null,\"formatters\":{\"@response_datetime_interval\":\"datetime\"},\"tooltips\":[[\"Datetime\",\"@response_datetime_interval{%Y-%m-%d %H:%M:%S}\"],[\"Count\",\"@Count\"],[\"Coverage\",\"@Coverage{0.00}%\"]]},\"id\":\"1041\",\"type\":\"HoverTool\"},{\"attributes\":{\"months\":[0,6]},\"id\":\"1059\",\"type\":\"MonthsTicker\"},{\"attributes\":{\"line_alpha\":0.1,\"line_color\":\"#4fa8f6\",\"line_width\":1.5,\"x\":{\"field\":\"response_datetime_interval\"},\"y\":{\"field\":\"Coverage\"}},\"id\":\"1036\",\"type\":\"Line\"},{\"attributes\":{\"data_source\":{\"id\":\"1033\"},\"glyph\":{\"id\":\"1035\"},\"hover_glyph\":null,\"muted_glyph\":null,\"nonselection_glyph\":{\"id\":\"1036\"},\"selection_glyph\":null,\"view\":{\"id\":\"1038\"}},\"id\":\"1037\",\"type\":\"GlyphRenderer\"},{\"attributes\":{\"axis\":{\"id\":\"1016\"},\"dimension\":1,\"ticker\":null},\"id\":\"1019\",\"type\":\"Grid\"},{\"attributes\":{},\"id\":\"1060\",\"type\":\"YearsTicker\"},{\"attributes\":{\"axis\":{\"id\":\"1012\"},\"ticker\":null},\"id\":\"1015\",\"type\":\"Grid\"},{\"attributes\":{},\"id\":\"1008\",\"type\":\"LinearScale\"},{\"attributes\":{\"axis_label\":\"Coverage %\",\"formatter\":{\"id\":\"1044\"},\"major_label_text_font_size\":\"10pt\",\"ticker\":{\"id\":\"1017\"}},\"id\":\"1016\",\"type\":\"LinearAxis\"},{\"attributes\":{\"bottom_units\":\"screen\",\"fill_alpha\":0.5,\"fill_color\":\"lightgrey\",\"left_units\":\"screen\",\"level\":\"overlay\",\"line_alpha\":1.0,\"line_color\":\"black\",\"line_dash\":[4,4],\"line_width\":2,\"render_mode\":\"css\",\"right_units\":\"screen\",\"top_units\":\"screen\"},\"id\":\"1061\",\"type\":\"BoxAnnotation\"},{\"attributes\":{},\"id\":\"1017\",\"type\":\"BasicTicker\"},{\"attributes\":{\"source\":{\"id\":\"1033\"}},\"id\":\"1038\",\"type\":\"CDSView\"}],\"root_ids\":[\"1001\"]},\"title\":\"Bokeh Application\",\"version\":\"2.0.0\"}};\n",
       "  var render_items = [{\"docid\":\"3f9a2f7b-0ea2-45ba-9ff1-5c1d0e0c6d7c\",\"root_ids\":[\"1001\"],\"roots\":{\"1001\":\"1bbdc1c8-fac3-40f7-b68a-d289b7ef0223\"}}];\n",
       "  root.Bokeh.embed.embed_items_notebook(docs_json, render_items);\n",
       "\n",
       "  }\n",
       "  if (root.Bokeh !== undefined) {\n",
       "    embed_document(root);\n",
       "  } else {\n",
       "    var attempts = 0;\n",
       "    var timer = setInterval(function(root) {\n",
       "      if (root.Bokeh !== undefined) {\n",
       "        clearInterval(timer);\n",
       "        embed_document(root);\n",
       "      } else {\n",
       "        attempts++;\n",
       "        if (attempts > 100) {\n",
       "          clearInterval(timer);\n",
       "          console.log(\"Bokeh: ERROR: Unable to run BokehJS code because BokehJS library is missing\");\n",
       "        }\n",
       "      }\n",
       "    }, 10, root)\n",
       "  }\n",
       "})(window);"
      ],
      "application/vnd.bokehjs_exec.v0+json": ""
     },
     "metadata": {
      "application/vnd.bokehjs_exec.v0+json": {
       "id": "1001"
      }
     },
     "output_type": "display_data"
    }
   ],
   "source": [
    "show_coverage_over_time(df_coverage, interval='day')"
   ]
  },
  {
   "cell_type": "markdown",
   "metadata": {},
   "source": [
    "<a id=\"conv_analysis\"></a>\n",
    "## 6. Analyze effectiveness\n",
    "\n",
    "Here, we take a deeper look at the effectiveness of your assistant."
   ]
  },
  {
   "cell_type": "code",
   "execution_count": 18,
   "metadata": {},
   "outputs": [],
   "source": [
    "# Get the escalated conversations\n",
    "df_effective_true = df_effective.loc[df_effective['Escalated_conversation']==True]\n",
    "\n",
    "# Get the non-escalated conversations\n",
    "df_not_effective = df_effective.loc[df_effective['Escalated_conversation']==False]\n",
    "\n",
    "# Calculate percentage of escalated conversations\n",
    "ef_escalated = float(\"{0:.2f}\".format(100-effective_perc))\n",
    "\n",
    "# Calculate coverage and non-coverage in escalated conversations\n",
    "if len(df_effective_true) > 0:\n",
    "    escalated_covered = float(\"{0:.2f}\".format((df_effective_true['Covered'].value_counts().to_frame()['Covered'][True]/df_effective_true['Covered'].value_counts().sum())*100))\n",
    "    escalated_not_covered = float(\"{0:.2f}\".format(100- escalated_covered))\n",
    "else:\n",
    "    escalated_covered = 0\n",
    "    escalated_not_covered = 0\n",
    "\n",
    "# Calculate coverage and non-coverage in non-escalated conversations\n",
    "if len(df_not_effective) > 0:\n",
    "    not_escalated_covered = float(\"{0:.2f}\".format((df_not_effective['Covered'].value_counts().to_frame()['Covered'][True]/df_not_effective['Covered'].value_counts().sum())*100))\n",
    "    not_escalated_not_covered = float(\"{0:.2f}\".format(100 - not_escalated_covered))\n",
    "else:\n",
    "    not_escalated_covered = 0\n",
    "    not_escalated_not_covered = 0\n",
    "\n",
    "# Calculate average confidence of escalated conversations\n",
    "if len(df_effective_true) > 0:\n",
    "    esc_avg_conf = float(\"{0:.2f}\".format(df_effective_true[df_effective_true['Covered']==True]['response.top_intent_confidence'].mean()*100))\n",
    "else:\n",
    "    esc_avg_conf = 0\n",
    "    \n",
    "# Calculate average confidence of non-escalated conversations\n",
    "if len(df_not_effective) > 0:\n",
    "    not_esc_avg_conf = float(\"{0:.2f}\".format(df_not_effective[df_not_effective['Covered']==True]['response.top_intent_confidence'].mean()*100))\n",
    "else:\n",
    "    not_esc_avg_conf = 0"
   ]
  },
  {
   "cell_type": "markdown",
   "metadata": {},
   "source": [
    "###  6.1 Generate excel file and save to your project<a id=\"conv_analysis1\"></a>"
   ]
  },
  {
   "cell_type": "code",
   "execution_count": 19,
   "metadata": {},
   "outputs": [],
   "source": [
    "# Set sampling size for conversations, set to -1 to disable sampling\n",
    "SAMPLE_SIZE = 100\n",
    "export_result_excel(df_effective, sample_size=SAMPLE_SIZE)"
   ]
  },
  {
   "cell_type": "markdown",
   "metadata": {},
   "source": [
    "###  6.2 Plot breakdown by effectiveness graph<a id=\"conv_analysis2\"></a>"
   ]
  },
  {
   "cell_type": "code",
   "execution_count": 20,
   "metadata": {},
   "outputs": [
    {
     "data": {
      "text/html": [
       "<tr><th colspan=\"4\"><div align=\"left\"><h2>Breakdown by effectiveness<hr/></h2></div></th></tr><tr><th colspan=\"4\"><div align=\"left\"><a id=\"file_list\"></a>View the lists here: <a href=All.xlsx target=\"_blank\">All.xlsx</a>&nbsp;&nbsp;&nbsp;<a href=Escalated_sample.xlsx target=\"_blank\">Escalated_sample.xlsx</a>&nbsp;&nbsp;&nbsp;<a href=NotEscalated_sample.xlsx target=\"_blank\">NotEscalated_sample.xlsx</a></div></th></tr><tr><td style= \"border-right: 1px solid black; border-bottom: 1px solid black; width : 400px\"><div align=\"left\"><strong>Effectiveness (Escalated)&nbsp;</br><font size=\"5\">3.13%</strong></font size></br></div></td>    <td style=\"width:1000px; height=100;\"><img class=\"colimg\" src='data:image/png;base64,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'></td></tr><tr><td style= \"border-right: 1px solid black; border-bottom: 1px solid black; width : 400px;\"><div align=\"left\"><strong>Effectiveness (Not escalated)&nbsp;</br><font size=\"5\">96.87%</strong></font size></br></div></td>    <td style=\"width:1000px; height=100;border-bottom: 1px solid black;\"><img class=\"colimg\" src='data:image/png;base64,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'></td></tr>"
      ],
      "text/plain": [
       "<IPython.core.display.HTML object>"
      ]
     },
     "execution_count": 20,
     "metadata": {},
     "output_type": "execute_result"
    }
   ],
   "source": [
    "# Get the links to the excels\n",
    "all_html_link = '<a href={} target=\"_blank\">All.xlsx</a>'.format('All.xlsx')\n",
    "escalated_html_link = '<a href={} target=\"_blank\">Escalated_sample.xlsx</a>'.format('Escalated_sample.xlsx')\n",
    "not_escalated_html_link = '<a href={} target=\"_blank\">NotEscalated_sample.xlsx</a>'.format('NotEscalated_sample.xlsx')\n",
    "\n",
    "# Embed the links in HTML table format\n",
    "link_html = '<tr><th colspan=\"4\"><div align=\"left\"><a id=\"file_list\"></a>View the lists here: {}&nbsp;&nbsp;&nbsp;{}&nbsp;&nbsp;&nbsp;{}</div></th></tr>'.format(all_html_link, escalated_html_link, not_escalated_html_link)\n",
    "\n",
    "if 100-effective_perc > 0:\n",
    "    escalated_bar = coverage_barh(escalated_covered, esc_avg_conf, '', True, 15, width_bar(100-effective_perc))\n",
    "else:\n",
    "    escalated_bar = ''\n",
    "\n",
    "if effective_perc > 0: \n",
    "    non_escalated_bar = coverage_barh(not_escalated_covered, not_esc_avg_conf, '' , True , 15,width_bar(effective_perc))\n",
    "else:\n",
    "    non_escalated_bar = ''\n",
    "\n",
    "# Plot the results\n",
    "HTML('<tr><th colspan=\"4\"><div align=\"left\"><h2>Breakdown by effectiveness<hr/></h2></div></th></tr>\\\n",
    "'+ link_html + '<tr><td style= \"border-right: 1px solid black; border-bottom: 1px solid black; width : 400px\"><div align=\"left\"><strong>Effectiveness (Escalated)&nbsp;</br>\\\n",
    "<font size=\"5\">{ef_escalated}%</strong></font size></br></div></td>\\\n",
    "    <td style=\"width:1000px; height=100;\">{one}</td></tr>\\\n",
    "<tr><td style= \"border-right: 1px solid black; border-bottom: 1px solid black; width : 400px;\"><div align=\"left\"><strong>Effectiveness (Not escalated)&nbsp;</br>\\\n",
    "<font size=\"5\">{effective_perc}%</strong></font size></br></div></td>\\\n",
    "    <td style=\"width:1000px; height=100;border-bottom: 1px solid black;\">{two}</td>\\\n",
    "</tr>'.format(ef_escalated= ef_escalated,\n",
    "              one = escalated_bar, \n",
    "              effective_perc = effective_perc, \n",
    "              two = non_escalated_bar)) \n"
   ]
  },
  {
   "cell_type": "markdown",
   "metadata": {},
   "source": [
    "You can download all the analyzed data from `All.xlsx`. A sample of escalated and non-escalated conversations are available in `Escalated_sample.xlsx` and `NotEscalated_sample.xlsx` respectively."
   ]
  },
  {
   "cell_type": "markdown",
   "metadata": {},
   "source": [
    "<a id=\"root_cause\"></a>\n",
    "## 7. Root cause analysis of non coverage\n",
    "Let us take a look at the reasons for non-coverage of messages"
   ]
  },
  {
   "cell_type": "code",
   "execution_count": 21,
   "metadata": {},
   "outputs": [
    {
     "data": {
      "text/html": [
       "<div>\n",
       "<style scoped>\n",
       "    .dataframe tbody tr th:only-of-type {\n",
       "        vertical-align: middle;\n",
       "    }\n",
       "\n",
       "    .dataframe tbody tr th {\n",
       "        vertical-align: top;\n",
       "    }\n",
       "\n",
       "    .dataframe thead th {\n",
       "        text-align: right;\n",
       "    }\n",
       "</style>\n",
       "<table border=\"1\" class=\"dataframe\">\n",
       "  <thead>\n",
       "    <tr style=\"text-align: right;\">\n",
       "      <th></th>\n",
       "      <th>Messages</th>\n",
       "      <th>Total</th>\n",
       "    </tr>\n",
       "  </thead>\n",
       "  <tbody>\n",
       "    <tr>\n",
       "      <th>0</th>\n",
       "      <td>'anything_else' node</td>\n",
       "      <td>724</td>\n",
       "    </tr>\n",
       "    <tr>\n",
       "      <th>1</th>\n",
       "      <td>'#out_of_scope || #off_topic' node</td>\n",
       "      <td>186</td>\n",
       "    </tr>\n",
       "  </tbody>\n",
       "</table>\n",
       "</div>"
      ],
      "text/plain": [
       "                             Messages  Total\n",
       "0                'anything_else' node    724\n",
       "1  '#out_of_scope || #off_topic' node    186"
      ]
     },
     "execution_count": 21,
     "metadata": {},
     "output_type": "execute_result"
    }
   ],
   "source": [
    "# Count the causes for non-coverage and store results in dataframe\n",
    "not_covered = pd.DataFrame(df_coverage['Not Covered cause'].value_counts().reset_index())\n",
    "# Name the columns in the dataframe\n",
    "not_covered.columns = ['Messages', 'Total']\n",
    "not_covered"
   ]
  },
  {
   "cell_type": "markdown",
   "metadata": {},
   "source": [
    "<a id=\"abandoned_resolved_intents\"></a>\n",
    "## 8. Abandoned and resolved intent analysis\n",
    "\n",
    "When users engage in a conversation session, an assistant identifies the intent of each message from the user. Based on the logic flow defined in a dialog tree, the assistant communicates with users and performs actions. The assistant may succeed or fail to satisfy users' intent.  One way to identify patterns of success or failure is by analyzing which intents most often lead to a dialog node associated with resolution, and which intents most often lead to users abandoning the session.  Analyzing resolved and abandoned intents can help you identify issues in your assistant to improve, such as a problematic dialog flow or imprecise intents. In this section, we demonstrate a method of conducting intent analysis using context variables.\n",
    "\n",
    "We introduce two context variables: `response_context_IntentStarted` and `response_context_IntentCompleted`.  You will need to modify your dialog skill definition (workspace) to introduce these variables in your dialog flow.  After you modify your dialog skill definition, your logs will be marked such that when users trigger a conversation with an intent, the assistant will use `response_context_IntentStarted` to record the intent. During the conversation, the assistant will use `response_context_IntentCompleted` to record if the intent is satisfied. Follow the steps below to add the context variables for an intent in your dialog skill definition.\n",
    "\n",
    "1. Open Dialog Overview page, see <a href=\"https://cloud.ibm.com/docs/services/assistant?topic=assistant-dialog-overview\" target=\"_blank\">Dialog Overview</a> for more information.\n",
    "2. Click the entry point node of the dialog node that is associated with the intent you want to analyze\n",
    "3. Open the context editor, see <a href=\"https://cloud.ibm.com/docs/services/assistant?topic=assistant-dialog-runtime#dialog-runtime-context-variables\" target=\"_blank\">Context Variables</a> for more information\n",
    "4. Add `response_context_IntentStarted` as a variable and \\[intent_name\\] as the value\n",
    "5. Follow the dialog flow to locate the satisfying node of the intent\n",
    "6. Open the context editor\n",
    "7. Add `response_context_IntentCompleted` as variable and \\[intent_name\\] as the value\n",
    "8. Repeat step 5-7 to mark all satisfying nodes of the intent if necessary\n",
    "\n",
    "Then repeat the above steps for every intent you want to analyze in this way.\n",
    "\n",
    "After completing the above steps, run the following code for intent analysis. Note that the analysis requires logs generated after the above changes. You will need to reload the updated assistant definition and logs."
   ]
  },
  {
   "cell_type": "markdown",
   "metadata": {},
   "source": [
    "###  8.1 Count of all started intents<a id=\"started_intents\"></a>"
   ]
  },
  {
   "cell_type": "code",
   "execution_count": 22,
   "metadata": {},
   "outputs": [
    {
     "data": {
      "text/html": [
       "<table border=\"1\" class=\"dataframe\">\n",
       "  <thead>\n",
       "    <tr style=\"text-align: right;\">\n",
       "      <th></th>\n",
       "      <th>Intent</th>\n",
       "      <th>Count</th>\n",
       "    </tr>\n",
       "  </thead>\n",
       "  <tbody>\n",
       "    <tr>\n",
       "      <th>0</th>\n",
       "      <td>locate_amenity</td>\n",
       "      <td>7</td>\n",
       "    </tr>\n",
       "    <tr>\n",
       "      <th>1</th>\n",
       "      <td>turn_on</td>\n",
       "      <td>6</td>\n",
       "    </tr>\n",
       "    <tr>\n",
       "      <th>2</th>\n",
       "      <td>phone</td>\n",
       "      <td>3</td>\n",
       "    </tr>\n",
       "    <tr>\n",
       "      <th>3</th>\n",
       "      <td>turn_up</td>\n",
       "      <td>2</td>\n",
       "    </tr>\n",
       "    <tr>\n",
       "      <th>4</th>\n",
       "      <td>turn_down</td>\n",
       "      <td>1</td>\n",
       "    </tr>\n",
       "    <tr>\n",
       "      <th>5</th>\n",
       "      <td>turn_off</td>\n",
       "      <td>1</td>\n",
       "    </tr>\n",
       "  </tbody>\n",
       "</table>"
      ],
      "text/plain": [
       "<IPython.core.display.HTML object>"
      ]
     },
     "metadata": {},
     "output_type": "display_data"
    }
   ],
   "source": [
    "# Define context variables\n",
    "start_intent_variable = 'response_context_IntentStarted'\n",
    "\n",
    "if start_intent_variable in df_formated:\n",
    "    # Group dataframe by conversation_id and start_intent_variable\n",
    "    df_intent_started = df_formated.groupby(['response.context.conversation_id', start_intent_variable]).count().reset_index()\n",
    "    # Refactors data to show only columns of conversation_id and start_intent_variable\n",
    "    df_intent_started = df_intent_started[['response.context.conversation_id', start_intent_variable]]\n",
    "\n",
    "    # Count the number of conversation_ids with each start_intent_variable\n",
    "    intent_started = df_intent_started[start_intent_variable].value_counts().reset_index()\n",
    "    intent_started.columns = ['Intent', 'Count']\n",
    "    display(HTML(intent_started.to_html()))\n",
    "else:\n",
    "    print('Cannot find \\'response_context_IntentStarted\\' and \\'response_context_IntentCompleted\\' in logs. Please check step 4 and make sure updated logs are reloaded.')"
   ]
  },
  {
   "cell_type": "markdown",
   "metadata": {},
   "source": [
    "###  8.2 Analyze resolved intents<a id=\"resolved_intents\"></a>"
   ]
  },
  {
   "cell_type": "code",
   "execution_count": 23,
   "metadata": {},
   "outputs": [
    {
     "name": "stdout",
     "output_type": "stream",
     "text": [
      "\n",
      "Count of resolved intents in all conversations\n",
      "================================================\n"
     ]
    },
    {
     "data": {
      "text/html": [
       "<table border=\"1\" class=\"dataframe\">\n",
       "  <thead>\n",
       "    <tr style=\"text-align: right;\">\n",
       "      <th></th>\n",
       "      <th>Intent</th>\n",
       "      <th>Count</th>\n",
       "    </tr>\n",
       "  </thead>\n",
       "  <tbody>\n",
       "    <tr>\n",
       "      <th>0</th>\n",
       "      <td>turn_on</td>\n",
       "      <td>5</td>\n",
       "    </tr>\n",
       "    <tr>\n",
       "      <th>1</th>\n",
       "      <td>phone</td>\n",
       "      <td>3</td>\n",
       "    </tr>\n",
       "    <tr>\n",
       "      <th>2</th>\n",
       "      <td>locate_amenity</td>\n",
       "      <td>3</td>\n",
       "    </tr>\n",
       "  </tbody>\n",
       "</table>"
      ],
      "text/plain": [
       "<IPython.core.display.HTML object>"
      ]
     },
     "metadata": {},
     "output_type": "display_data"
    },
    {
     "name": "stdout",
     "output_type": "stream",
     "text": [
      "\n",
      "Most resolved intents (%)\n",
      "===========================\n"
     ]
    },
    {
     "data": {
      "text/html": [
       "<table border=\"1\" class=\"dataframe\">\n",
       "  <thead>\n",
       "    <tr style=\"text-align: right;\">\n",
       "      <th></th>\n",
       "      <th>Intent</th>\n",
       "      <th>Percentage</th>\n",
       "    </tr>\n",
       "  </thead>\n",
       "  <tbody>\n",
       "    <tr>\n",
       "      <th>0</th>\n",
       "      <td>phone</td>\n",
       "      <td>100.0%</td>\n",
       "    </tr>\n",
       "    <tr>\n",
       "      <th>1</th>\n",
       "      <td>turn_on</td>\n",
       "      <td>83.3%</td>\n",
       "    </tr>\n",
       "    <tr>\n",
       "      <th>2</th>\n",
       "      <td>locate_amenity</td>\n",
       "      <td>42.9%</td>\n",
       "    </tr>\n",
       "  </tbody>\n",
       "</table>"
      ],
      "text/plain": [
       "<IPython.core.display.HTML object>"
      ]
     },
     "metadata": {},
     "output_type": "display_data"
    }
   ],
   "source": [
    "end_intent_variable = 'response_context_IntentCompleted'\n",
    "\n",
    "if end_intent_variable in df_formated:\n",
    "\n",
    "    # Group dataframe by conversation_id and end_intent_variable\n",
    "    df_intent_completed = df_formated.groupby(['response.context.conversation_id',end_intent_variable]).count().reset_index()\n",
    "    # Refactor data to show columns of conversation_id and end_intent_variable only\n",
    "    df_intent_completed = df_intent_completed[['response.context.conversation_id',end_intent_variable]]\n",
    "    # Count the number of conversation_ids with each end_intent_variable\n",
    "    intent_completed = df_intent_completed[end_intent_variable].value_counts().reset_index()\n",
    "    intent_completed.columns = ['Intent', 'Count']\n",
    "\n",
    "    # Show counts of resolved intents\n",
    "    intent_completed_title = '\\nCount of resolved intents in all conversations\\n'\n",
    "    print(intent_completed_title, \"=\" * len(intent_completed_title),'', sep = '')\n",
    "    display(HTML(intent_completed.to_html()))\n",
    "\n",
    "    # Convert dataframe to a list\n",
    "    res_intent_list = intent_completed.values.tolist()\n",
    "    # Get list of started intents\n",
    "    all_intent = df_intent_started[start_intent_variable].value_counts().reset_index().values.tolist()\n",
    "\n",
    "    # Loop over resolved intents list. Each element contains a pair of intent and count\n",
    "    data = []\n",
    "    for pair_ab in res_intent_list:\n",
    "        # Loop over each row of started intents. Each row contains a pair of intent and count\n",
    "        for pair_all in all_intent:\n",
    "            # Check if the intent name matches in started and resolved intents\n",
    "            if pair_ab[0] == pair_all[0]:\n",
    "                # Then acccesses the count from that matched intent, and calculate percentage\n",
    "                perc = (pair_ab[1]/pair_all[1])*100\n",
    "                # Add the matched intent name and percentage to data list\n",
    "                data.append([pair_ab[0],perc])\n",
    "\n",
    "    # Create a new dataframe with data list\n",
    "    resolved_percentage = pd.DataFrame(data=data).reset_index(drop=True)\n",
    "\n",
    "    # Format the dataframe, and orders data in descending order (shows highest percentage first)\n",
    "    resolved_percentage.columns = ['Intent','Percentage']\n",
    "    resolved_percentage.sort_values(ascending=False,inplace=True, by='Percentage')\n",
    "    # Format the data in the percentage column to include '%', and 1 decimal point\n",
    "    resolved_percentage['Percentage'] = resolved_percentage['Percentage'].apply(lambda x: \"{0:.1f}%\".format(x))\n",
    "    resolved_percentage.reset_index(drop=True, inplace=True)\n",
    "\n",
    "    # Show most resolved intents\n",
    "    most_resolved_intents = \"\\nMost resolved intents (%)\\n\"\n",
    "    print(most_resolved_intents, \"=\" * len(most_resolved_intents),'', sep = '')\n",
    "    display(HTML(resolved_percentage.to_html()))\n",
    "\n",
    "else:\n",
    "    print('Cannot find \\'response_context_IntentStarted\\' and \\'response_context_IntentCompleted\\' in logs. Please check step 4 and make sure updated logs are reloaded.')\n",
    "    "
   ]
  },
  {
   "cell_type": "markdown",
   "metadata": {},
   "source": [
    "###  8.3 Analyze abandoned intents<a id=\"abandoned_intents\"></a>"
   ]
  },
  {
   "cell_type": "code",
   "execution_count": 24,
   "metadata": {},
   "outputs": [
    {
     "name": "stdout",
     "output_type": "stream",
     "text": [
      "\n",
      "Count of abandoned intents in all conversations\n",
      "=================================================\n"
     ]
    },
    {
     "data": {
      "text/html": [
       "<table border=\"1\" class=\"dataframe\">\n",
       "  <thead>\n",
       "    <tr style=\"text-align: right;\">\n",
       "      <th></th>\n",
       "      <th>Intent</th>\n",
       "      <th>Count</th>\n",
       "    </tr>\n",
       "  </thead>\n",
       "  <tbody>\n",
       "    <tr>\n",
       "      <th>0</th>\n",
       "      <td>locate_amenity</td>\n",
       "      <td>4</td>\n",
       "    </tr>\n",
       "    <tr>\n",
       "      <th>1</th>\n",
       "      <td>turn_up</td>\n",
       "      <td>2</td>\n",
       "    </tr>\n",
       "    <tr>\n",
       "      <th>2</th>\n",
       "      <td>turn_on</td>\n",
       "      <td>2</td>\n",
       "    </tr>\n",
       "    <tr>\n",
       "      <th>3</th>\n",
       "      <td>turn_down</td>\n",
       "      <td>1</td>\n",
       "    </tr>\n",
       "    <tr>\n",
       "      <th>4</th>\n",
       "      <td>turn_off</td>\n",
       "      <td>1</td>\n",
       "    </tr>\n",
       "  </tbody>\n",
       "</table>"
      ],
      "text/plain": [
       "<IPython.core.display.HTML object>"
      ]
     },
     "metadata": {},
     "output_type": "display_data"
    },
    {
     "name": "stdout",
     "output_type": "stream",
     "text": [
      "\n",
      "Most abandoned intents (%)\n",
      "============================\n"
     ]
    },
    {
     "data": {
      "text/html": [
       "<table border=\"1\" class=\"dataframe\">\n",
       "  <thead>\n",
       "    <tr style=\"text-align: right;\">\n",
       "      <th></th>\n",
       "      <th>Intent</th>\n",
       "      <th>Percentage</th>\n",
       "    </tr>\n",
       "  </thead>\n",
       "  <tbody>\n",
       "    <tr>\n",
       "      <th>0</th>\n",
       "      <td>turn_up</td>\n",
       "      <td>100.0%</td>\n",
       "    </tr>\n",
       "    <tr>\n",
       "      <th>1</th>\n",
       "      <td>turn_down</td>\n",
       "      <td>100.0%</td>\n",
       "    </tr>\n",
       "    <tr>\n",
       "      <th>2</th>\n",
       "      <td>turn_off</td>\n",
       "      <td>100.0%</td>\n",
       "    </tr>\n",
       "    <tr>\n",
       "      <th>3</th>\n",
       "      <td>locate_amenity</td>\n",
       "      <td>57.1%</td>\n",
       "    </tr>\n",
       "    <tr>\n",
       "      <th>4</th>\n",
       "      <td>turn_on</td>\n",
       "      <td>33.3%</td>\n",
       "    </tr>\n",
       "  </tbody>\n",
       "</table>"
      ],
      "text/plain": [
       "<IPython.core.display.HTML object>"
      ]
     },
     "metadata": {},
     "output_type": "display_data"
    }
   ],
   "source": [
    "if start_intent_variable in df_formated and end_intent_variable in df_formated:\n",
    "\n",
    "    # Create lists of started and end_intent_variable\n",
    "    intent_complete_list = df_intent_completed.values.tolist()\n",
    "    intent_started_list = df_intent_started.values.tolist()\n",
    "\n",
    "    # Looping over completed intents list. Each element contains a pair of conversation id and end_intent_variable\n",
    "    for pair in intent_complete_list:\n",
    "        # Checks if any element is found in list of started intents\n",
    "        if pair in intent_started_list:\n",
    "            # If found, remove that pair from the list of started intents\n",
    "            intent_started_list.remove(pair)\n",
    "\n",
    "    # Create a new dataframe with updated dataset. \n",
    "    # This updated dataset contains intents that have been started but not completed, thus categorised as abandoned\n",
    "    df_intent_abandoned = pd.DataFrame(data=intent_started_list)\n",
    "\n",
    "    # Group each pair (conversation id, intent abandoned), and show number of occurances of each abandoned intent\n",
    "    final_intent_abandoned = df_intent_abandoned[1].value_counts().reset_index()\n",
    "    final_intent_abandoned.columns = ['Intent','Count']\n",
    "\n",
    "    # Show counts of abandoned intents\n",
    "    intent_abandoned_title = '\\nCount of abandoned intents in all conversations\\n'\n",
    "    print(intent_abandoned_title, \"=\" * len(intent_abandoned_title),'', sep = '')\n",
    "    display(HTML(final_intent_abandoned.to_html()))\n",
    "\n",
    "    # Convert dataframe to a list\n",
    "    aban_intent_list = final_intent_abandoned.values.tolist()\n",
    "    # Get list of started intents\n",
    "    all_intent = df_intent_started[start_intent_variable].value_counts().reset_index().values.tolist()\n",
    "\n",
    "    # Loop over resolved intents list. Each element contains a pair of intent and count\n",
    "    data = []\n",
    "    for pair_ab in aban_intent_list:\n",
    "        # Loop over each row of started intents. Each row contains a pair of intent and count\n",
    "        for pair_all in all_intent:\n",
    "            # Check if the intent name matches in started and resolved intents\n",
    "            if pair_ab[0] == pair_all[0]:\n",
    "                # Then acccesse the count from that matched intent, and calculate percentage\n",
    "                perc = (pair_ab[1]/pair_all[1])*100\n",
    "                # Add the matched intent name and percentage to data list\n",
    "                data.append([pair_ab[0],perc])\n",
    "\n",
    "    # Create a new dataframe with data list\n",
    "    abandoned_percentage = pd.DataFrame(data=data).reset_index(drop=True)\n",
    "\n",
    "    # Format the dataframe, and orders data in descending order (shows highest percentage first)\n",
    "    abandoned_percentage.columns = ['Intent','Percentage']\n",
    "    abandoned_percentage.sort_values(ascending=False,inplace=True, by='Percentage')\n",
    "    abandoned_percentage.reset_index(drop=True, inplace=True)\n",
    "\n",
    "    # Format the data in the percentage column to include '%', and 1 decimal point\n",
    "    abandoned_percentage['Percentage'] = abandoned_percentage['Percentage'].apply(lambda x: \"{0:.1f}%\".format(x))\n",
    "\n",
    "    # Show most abandoned intents\n",
    "    most_abandoned_intents = \"\\nMost abandoned intents (%)\\n\"\n",
    "    print(most_abandoned_intents, \"=\" * len(most_abandoned_intents),'', sep = '')\n",
    "    display(HTML(abandoned_percentage.to_html()))\n",
    "\n",
    "else:\n",
    "    print('Cannot find \\'response_context_IntentStarted\\' and \\'response_context_IntentCompleted\\' in logs. Please check step 4 and make sure updated logs are reloaded.')"
   ]
  },
  {
   "cell_type": "markdown",
   "metadata": {},
   "source": [
    "Finally, we generate an Excel file that lists all conversations for which there are abandoned and resolved intents for further analysis."
   ]
  },
  {
   "cell_type": "code",
   "execution_count": 25,
   "metadata": {},
   "outputs": [
    {
     "data": {
      "text/html": [
       "Abandoned and resolved intents: <b><a href=Abandoned_Resolved.xlsx target=\"_blank\">Abandoned_Resolved.xlsx</a></b>"
      ],
      "text/plain": [
       "<IPython.core.display.HTML object>"
      ]
     },
     "metadata": {},
     "output_type": "display_data"
    }
   ],
   "source": [
    "if 'df_intent_abandoned' in locals() and df_intent_abandoned is not None and df_intent_completed is not None:\n",
    "    # Rename columns\n",
    "    df_intent_abandoned.columns = ['Conversation_id','Intent']\n",
    "    df_intent_completed.columns = ['Conversation_id','Intent']\n",
    "\n",
    "    # Generate excel file\n",
    "    file_name = 'Abandoned_Resolved.xlsx'\n",
    "    generate_excel_measure([df_intent_abandoned,df_intent_completed], ['Abandoned', 'Resolved'], filename= file_name, project_io=None)\n",
    "    link_html = 'Abandoned and resolved intents: <b><a href={} target=\"_blank\">Abandoned_Resolved.xlsx</a></b>'.format(file_name)\n",
    "\n",
    "    display(HTML(link_html))\n",
    "    \n",
    "else:\n",
    "    print('Cannot find \\'response_context_IntentStarted\\' and \\'response_context_IntentCompleted\\' in logs. Please check step 4 and make sure updated logs are reloaded.')"
   ]
  },
  {
   "cell_type": "markdown",
   "metadata": {},
   "source": [
    "<a id=\"summary\"></a>\n",
    "## 9. Summary and next steps\n",
    "\n",
    "The metrics described above help you narrow your immediate focus of improvement. We suggest the following two strategies: \n",
    "\n",
    "- **Toward improving Effectiveness**\n",
    "\n",
    "    We suggest focusing on a group of problematic conversations, e.g., escalated conversations, then performing a deeper analysis on these conversation as follows. <br>\n",
    "    1. Choose to download either the complete conversations ([All.xlsx](#file_list)), or sampled escalated conversations [Escalated_sample.xlsx](#file_list), or non-escalated conversations [NotEscalated_sample.xlsx](#file_list).<br>\n",
    "    2. Perform a manual assessment of these conversations.<br>\n",
    "    3. Analyze the results using our [Analyze Watson Assistant Effectiveness](https://github.com/watson-developer-cloud/assistant-improve-recommendations-notebook/blob/master/notebook/Effectiveness%20Notebook.ipynb) Jupyter Notebook.\n",
    "\n",
    "\n",
    "- **Toward improving Coverage**\n",
    "\n",
    "    For utterances where an intent was found but no response was given. We suggest performing a deeper analysis to identify  root causes, e.g., missing entities or lacking of dialog logic. \n",
    "\n",
    "    For utterances where no intent was found, we suggest expanding intent coverage as follows.\n",
    "\n",
    "    1. Examine utterances from the production log, especially focus on the utterances that are below the confidence (0.2 by default).\n",
    "    2. If you set a confidence threshold significantly higher than 0.2, we suggest looking at utterances that are below but close to the threshold.\n",
    "    3. Once you select a collection of utterances, intent expansion, you can focus on intent expansion by two methods:\n",
    "        - One-by-One: examine each utterance to either change to an existing intent or add a new intent.\n",
    "        - Unsupervised Learning: perform semantic clustering to generate utterance clusters; examine each cluster to decide (1) adding utterances of an existing intent or (2) creating a new intent.\n",
    "\n",
    "For more information, please check <a href=\"https://github.com/watson-developer-cloud/assistant-improve-recommendations-notebook/raw/master/notebook/IBM%20Watson%20Assistant%20Continuous%20Improvement%20Best%20Practices.pdf\" target=\"_blank\" rel=\"noopener noreferrer\">Watson Assistant Continuous Improvement Best Practices</a>."
   ]
  },
  {
   "cell_type": "markdown",
   "metadata": {},
   "source": [
    "### <a id=\"authors\"></a>Authors\n",
    "\n",
    "**Zhe Zhang**, Ph.D. in Computer Science, is a Data Scientist for IBM Watson AI. Zhe has a research background in Natural Language Processing, Sentiment Analysis, Text Mining, and Machine Learning. His research has been published at leading  conferences and journals including ACL and EMNLP.\n",
    "\n",
    "**Sherin Varughese** is a Data Scientist for IBM Watson AI. Sherin has her graduate degree in Business Intelligence and Data Analytics and has experience in Data Analysis, Warehousing and Machine Learning."
   ]
  },
  {
   "cell_type": "markdown",
   "metadata": {},
   "source": [
    "### <a id=\"acknowledgement\"></a> Acknowledgement\n",
    "\n",
    "The authors would like to thank the following members of the IBM Research and Watson Assistant teams for their contributions and reviews of the notebook:  Matt Arnold, Adam Benvie, Kyle Croutwater, Eric Wayne."
   ]
  },
  {
   "cell_type": "markdown",
   "metadata": {},
   "source": [
    "Copyright © 2020 IBM. This notebook and its source code are released under the terms of the MIT License."
   ]
  }
 ],
 "metadata": {
  "kernelspec": {
   "display_name": "Python 3",
   "language": "python",
   "name": "python3"
  },
  "language_info": {
   "codemirror_mode": {
    "name": "ipython",
    "version": 3
   },
   "file_extension": ".py",
   "mimetype": "text/x-python",
   "name": "python",
   "nbconvert_exporter": "python",
   "pygments_lexer": "ipython3",
   "version": "3.6.8"
  }
 },
 "nbformat": 4,
 "nbformat_minor": 4
}
